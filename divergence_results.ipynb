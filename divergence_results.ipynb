{
 "cells": [
  {
   "cell_type": "markdown",
   "metadata": {},
   "source": [
    "# Topological Divergence Results\n",
    "\n",
    "Load, visualise, and summarise the topological divergences computed for the test systems."
   ]
  },
  {
   "cell_type": "code",
   "execution_count": 27,
   "metadata": {},
   "outputs": [],
   "source": [
    "import os\n",
    "import pickle\n",
    "from trajectories import generate_trajectories\n",
    "from plots_and_correlates import plot_lce_estimate_and_correlation\n",
    "from lca_supervised_learning import score_classification\n",
    "from lca_supervised_learning import score_regression\n",
    "from lca_supervised_learning import score_regression_pos\n",
    "from lca_supervised_learning import score_regression_KNN\n",
    "from lca_supervised_learning import score_regression_pos_KNN\n"
   ]
  },
  {
   "cell_type": "code",
   "execution_count": 28,
   "metadata": {},
   "outputs": [],
   "source": [
    "SYS_NAMES = [\"henon\", \"ikeda\", \"logistic\", \"tinkerbell\"]\n",
    "DIV_TYPES = [\"dmt\", \"mt\", \"hvg\", \"ph\"]\n",
    "RES_TYPES = [\"correlations\", \"divergences\"]"
   ]
  },
  {
   "cell_type": "code",
   "execution_count": 29,
   "metadata": {},
   "outputs": [
    {
     "name": "stdout",
     "output_type": "stream",
     "text": [
      "Experiment config -- SEED:42, LENGTH:1000, SAMPLES:500\n"
     ]
    }
   ],
   "source": [
    "SEED = 42\n",
    "SAMPLES = 500\n",
    "LENGTH = 1000\n",
    "experimental_data = generate_trajectories(\n",
    "    RANDOM_SEED=SEED, TS_LENGTH=LENGTH, CONTROL_PARAM_SAMPLES=SAMPLES\n",
    ")"
   ]
  },
  {
   "cell_type": "code",
   "execution_count": 30,
   "metadata": {},
   "outputs": [],
   "source": [
    "logistic_trajectories = experimental_data[\"logistic\"][\"trajectories\"]\n",
    "logistic_lces = experimental_data[\"logistic\"][\"lces\"]\n",
    "logistic_control_params = experimental_data[\"logistic\"][\"sys_params\"]"
   ]
  },
  {
   "cell_type": "code",
   "execution_count": 31,
   "metadata": {},
   "outputs": [],
   "source": [
    "henon_trajectories = experimental_data[\"henon\"][\"trajectories\"]\n",
    "henon_lces = experimental_data[\"henon\"][\"lces\"]\n",
    "henon_control_params = experimental_data[\"henon\"][\"sys_params\"]"
   ]
  },
  {
   "cell_type": "code",
   "execution_count": 32,
   "metadata": {},
   "outputs": [],
   "source": [
    "ikeda_trajectories = experimental_data[\"ikeda\"][\"trajectories\"]\n",
    "ikeda_lces = experimental_data[\"ikeda\"][\"lces\"]\n",
    "ikeda_control_params = experimental_data[\"ikeda\"][\"sys_params\"]"
   ]
  },
  {
   "cell_type": "code",
   "execution_count": 33,
   "metadata": {},
   "outputs": [],
   "source": [
    "tinkerbell_trajectories = experimental_data[\"tinkerbell\"][\"trajectories\"]\n",
    "tinkerbell_lces = experimental_data[\"tinkerbell\"][\"lces\"]\n",
    "tinkerbell_control_params = experimental_data[\"tinkerbell\"][\"sys_params\"]"
   ]
  },
  {
   "cell_type": "code",
   "execution_count": 34,
   "metadata": {},
   "outputs": [],
   "source": [
    "system_data = {\n",
    "    \"logistic\": {\n",
    "        \"trajectories\": logistic_trajectories,\n",
    "        \"lces\": logistic_lces,\n",
    "        \"control_params\": logistic_control_params,\n",
    "        \"param_name\": \"r\",\n",
    "    },\n",
    "    \"henon\": {\n",
    "        \"trajectories\": henon_trajectories,\n",
    "        \"lces\": henon_lces,\n",
    "        \"control_params\": henon_control_params,\n",
    "        \"param_name\": \"a\",\n",
    "    },\n",
    "    \"ikeda\": {\n",
    "        \"trajectories\": ikeda_trajectories,\n",
    "        \"lces\": ikeda_lces,\n",
    "        \"control_params\": ikeda_control_params,\n",
    "        \"param_name\": \"a\",\n",
    "    },\n",
    "    \"tinkerbell\": {\n",
    "        \"trajectories\": tinkerbell_trajectories,\n",
    "        \"lces\": tinkerbell_lces,\n",
    "        \"control_params\": tinkerbell_control_params,\n",
    "        \"param_name\": \"a\",\n",
    "    },\n",
    "}"
   ]
  },
  {
   "cell_type": "code",
   "execution_count": 35,
   "metadata": {},
   "outputs": [],
   "source": [
    "def find_first_matching_file(path, prefix):\n",
    "    for filename in os.listdir(path):\n",
    "        if filename.startswith(prefix):\n",
    "            return os.path.join(path, filename)\n"
   ]
  },
  {
   "cell_type": "code",
   "execution_count": 36,
   "metadata": {},
   "outputs": [],
   "source": [
    "def load_results_file(sys_name, div_name, res_type=\"correlations\", seed=42, length=1000, samples=500):\n",
    "\n",
    "    assert sys_name in SYS_NAMES, \"unrecognised system name\"\n",
    "    assert div_name in DIV_TYPES, \"unrecognised divergence name\"\n",
    "    assert res_type in RES_TYPES, \"unrecognised results type\"\n",
    "\n",
    "    results_dir = \"./outputs/data/divergence_results\"\n",
    "    filename_prefix = f\"SEED_{seed}__LENGTH_{length}__SAMPLES_{samples}__{sys_name}_{div_name}_{res_type}__\"\n",
    "    filename = find_first_matching_file(results_dir, filename_prefix)\n",
    "\n",
    "    with open(filename, 'rb') as results_file:\n",
    "        data = pickle.load(results_file)\n",
    "\n",
    "    return data"
   ]
  },
  {
   "cell_type": "markdown",
   "metadata": {},
   "source": [
    "## Visualise divergences and get Spearman and supervised learning results"
   ]
  },
  {
   "cell_type": "code",
   "execution_count": 37,
   "metadata": {},
   "outputs": [],
   "source": [
    "DIVS_TO_REPORT = [\n",
    "    \"cophenetic\",\n",
    "    \"cophenetic_reverse\",\n",
    "    \"bottleneck\",\n",
    "    \"wasserstein\"\n",
    "]\n",
    "\n",
    "MASKS = [0.1, 0.2, 0.3, 0.4, 0.5]\n",
    "DIVS_TO_REPORT.extend([f\"interleaving_{mask}_None\" for mask in MASKS])\n",
    "DIVS_TO_REPORT.extend([f\"interleaving_edge_{mask}_None\" for mask in MASKS])\n",
    "DIVS_TO_REPORT.extend([f\"interleaving_length_{mask}_None\" for mask in MASKS])\n",
    "\n",
    "def generate_correlations_and_scores_from_results_files(system_data, SYS_NAMES=SYS_NAMES, DIV_TYPES=DIV_TYPES):\n",
    "    correlations_and_scores = {}\n",
    "    res_type = \"divergences\"\n",
    "    for sys_name in SYS_NAMES:\n",
    "        sys_data = system_data[sys_name]\n",
    "        param_name = sys_data[\"param_name\"]\n",
    "        lces_actual = sys_data[\"lces\"]\n",
    "        control_params = sys_data[\"control_params\"]\n",
    "        for div_type in DIV_TYPES:\n",
    "            divergence_results = load_results_file(\n",
    "                sys_name,\n",
    "                div_type,\n",
    "                res_type=res_type,\n",
    "                seed=SEED,\n",
    "                length=LENGTH,\n",
    "                samples=SAMPLES,\n",
    "            )\n",
    "            divergence_data = divergence_results[\"data\"]\n",
    "            for div_name, divergences in divergence_data.items():\n",
    "                if div_name not in DIVS_TO_REPORT:\n",
    "                    continue\n",
    "                div_name = f\"{div_name} divergence\"\n",
    "                correlations_and_scores[\n",
    "                    div_name, sys_name, LENGTH\n",
    "                ] = plot_lce_estimate_and_correlation(\n",
    "                    div_name,\n",
    "                    sys_name,\n",
    "                    param_name,\n",
    "                    divergences,\n",
    "                    lces_actual,\n",
    "                    control_params,\n",
    "                    LENGTH,\n",
    "                    plot_actual=True,\n",
    "                    save_plot=True,\n",
    "                    sharey=False,\n",
    "                    logy=False,\n",
    "                    twoy=True,\n",
    "                    show_plot=False\n",
    "                )\n",
    "                correlations_and_scores[\n",
    "                    div_name, sys_name, LENGTH\n",
    "                ] |= {\n",
    "                    \"classification_f1\": score_classification(divergences.reshape(-1,1), lces_actual),\n",
    "                    \"regression_neg_mean_absolute\": score_regression(divergences.reshape(-1,1), lces_actual),\n",
    "                    \"pos_regression_neg_mean_absolute\": score_regression_pos(divergences.reshape(-1,1), lces_actual),\n",
    "                    \"regression_neg_mean_absolute_poly\": score_regression_KNN(divergences.reshape(-1,1), lces_actual),\n",
    "                    \"pos_regression_neg_mean_absolute_poly\": score_regression_pos_KNN(divergences.reshape(-1,1), lces_actual),\n",
    "                }\n",
    "    return correlations_and_scores\n"
   ]
  },
  {
   "cell_type": "code",
   "execution_count": 38,
   "metadata": {},
   "outputs": [],
   "source": [
    "all_results_divergences = generate_correlations_and_scores_from_results_files(\n",
    "    system_data, SYS_NAMES=SYS_NAMES, DIV_TYPES=DIV_TYPES\n",
    ")"
   ]
  },
  {
   "cell_type": "code",
   "execution_count": 39,
   "metadata": {},
   "outputs": [
    {
     "name": "stdout",
     "output_type": "stream",
     "text": [
      "('cophenetic divergence', 'henon', 1000) {'spearmanr': SpearmanrResult(correlation=0.7633911175644702, pvalue=1.3940687356409059e-96), 'pos_spearmanr': SpearmanrResult(correlation=0.8232821992288273, pvalue=3.1550509518696414e-59), 'classification_f1': 0.8481955430244048, 'regression_neg_mean_absolute': -0.10298093927998764, 'pos_regression_neg_mean_absolute': -0.0759095822310458, 'regression_neg_mean_absolute_poly': -0.10446380731331138, 'pos_regression_neg_mean_absolute_poly': -0.0718403540371775}\n",
      "('cophenetic_reverse divergence', 'henon', 1000) {'spearmanr': SpearmanrResult(correlation=0.7994345577382308, pvalue=2.757298129601569e-112), 'pos_spearmanr': SpearmanrResult(correlation=0.837792079299472, pvalue=3.6124418015415295e-63), 'classification_f1': 0.7252698095555239, 'regression_neg_mean_absolute': -0.12106365299724728, 'pos_regression_neg_mean_absolute': -0.08290959025000622, 'regression_neg_mean_absolute_poly': -0.10251026469047209, 'pos_regression_neg_mean_absolute_poly': -0.07060179226327255}\n",
      "('interleaving_0.5_None divergence', 'henon', 1000) {'spearmanr': SpearmanrResult(correlation=0.8283640814563258, pvalue=2.0208486686183008e-127), 'pos_spearmanr': SpearmanrResult(correlation=0.6352695867661609, pvalue=5.821621860821405e-28), 'classification_f1': 0.8795453619752844, 'regression_neg_mean_absolute': -0.08985198546310785, 'pos_regression_neg_mean_absolute': -0.10351803143063296, 'regression_neg_mean_absolute_poly': -0.07214717880845678, 'pos_regression_neg_mean_absolute_poly': -0.08959075757384713}\n",
      "('interleaving_length_0.5_None divergence', 'henon', 1000) {'spearmanr': SpearmanrResult(correlation=0.8476759027036107, pvalue=3.339992920676597e-139), 'pos_spearmanr': SpearmanrResult(correlation=0.7495714166828482, pvalue=1.229610891779805e-43), 'classification_f1': 0.7520206519344426, 'regression_neg_mean_absolute': -0.07733187776825971, 'pos_regression_neg_mean_absolute': -0.07834687687908863, 'regression_neg_mean_absolute_poly': -0.08417034216167033, 'pos_regression_neg_mean_absolute_poly': -0.053479596841018134}\n",
      "('interleaving_edge_0.5_None divergence', 'henon', 1000) {'spearmanr': SpearmanrResult(correlation=0.8233578534314138, pvalue=1.3203899048627137e-124), 'pos_spearmanr': SpearmanrResult(correlation=0.7651289448620857, pvalue=1.9224446776723213e-46), 'classification_f1': 0.8024047936894585, 'regression_neg_mean_absolute': -0.0905792952695056, 'pos_regression_neg_mean_absolute': -0.07975537164486478, 'regression_neg_mean_absolute_poly': -0.1014487220690158, 'pos_regression_neg_mean_absolute_poly': -0.053339914459863635}\n",
      "('interleaving_0.4_None divergence', 'henon', 1000) {'spearmanr': SpearmanrResult(correlation=0.7525622742490969, pvalue=2.106718606334405e-92), 'pos_spearmanr': SpearmanrResult(correlation=0.42718337078236096, pvalue=7.673168237762147e-12), 'classification_f1': 0.8351343834158044, 'regression_neg_mean_absolute': -0.10163455495000306, 'pos_regression_neg_mean_absolute': -0.11942168328112739, 'regression_neg_mean_absolute_poly': -0.1034445795015216, 'pos_regression_neg_mean_absolute_poly': -0.11194283863570599}\n",
      "('interleaving_length_0.4_None divergence', 'henon', 1000) {'spearmanr': SpearmanrResult(correlation=0.7817748070992284, pvalue=3.229551177851988e-104), 'pos_spearmanr': SpearmanrResult(correlation=0.6326481548263011, pvalue=1.116797412099057e-27), 'classification_f1': 0.7401172702110523, 'regression_neg_mean_absolute': -0.1130317911837494, 'pos_regression_neg_mean_absolute': -0.10693847525559608, 'regression_neg_mean_absolute_poly': -0.10072777547188588, 'pos_regression_neg_mean_absolute_poly': -0.08163737291751719}\n",
      "('interleaving_edge_0.4_None divergence', 'henon', 1000) {'spearmanr': SpearmanrResult(correlation=0.7649677318709275, pvalue=3.2889084171904934e-97), 'pos_spearmanr': SpearmanrResult(correlation=0.6545489010328533, pvalue=3.959432662874977e-30), 'classification_f1': 0.791676729958151, 'regression_neg_mean_absolute': -0.0934651070541801, 'pos_regression_neg_mean_absolute': -0.10346048580578623, 'regression_neg_mean_absolute_poly': -0.10392584150629192, 'pos_regression_neg_mean_absolute_poly': -0.09925093782698656}\n",
      "('interleaving_0.3_None divergence', 'henon', 1000) {'spearmanr': SpearmanrResult(correlation=0.7763954255817023, pvalue=6.5843983825440165e-102), 'pos_spearmanr': SpearmanrResult(correlation=0.5912729895420121, pvalue=1.5061747420772378e-23), 'classification_f1': 0.6891305195180062, 'regression_neg_mean_absolute': -0.11133648312854659, 'pos_regression_neg_mean_absolute': -0.08650057536665431, 'regression_neg_mean_absolute_poly': -0.10890507519443927, 'pos_regression_neg_mean_absolute_poly': -0.055368984103372515}\n",
      "('interleaving_length_0.3_None divergence', 'henon', 1000) {'spearmanr': SpearmanrResult(correlation=0.7917804471217884, pvalue=1.0808279262017929e-108), 'pos_spearmanr': SpearmanrResult(correlation=0.6437885470701914, pvalue=6.706576024993635e-29), 'classification_f1': 0.737960136614468, 'regression_neg_mean_absolute': -0.1166316164522689, 'pos_regression_neg_mean_absolute': -0.0888743087046754, 'regression_neg_mean_absolute_poly': -0.09028162238236666, 'pos_regression_neg_mean_absolute_poly': -0.06166385953587441}\n",
      "('interleaving_edge_0.3_None divergence', 'henon', 1000) {'spearmanr': SpearmanrResult(correlation=0.7863536414145657, pvalue=3.0976028874202867e-106), 'pos_spearmanr': SpearmanrResult(correlation=0.6939351068453122, pvalue=4.3476838235393015e-35), 'classification_f1': 0.7068534670397986, 'regression_neg_mean_absolute': -0.10254115344630652, 'pos_regression_neg_mean_absolute': -0.07006897975528566, 'regression_neg_mean_absolute_poly': -0.09065485513005, 'pos_regression_neg_mean_absolute_poly': -0.05239670467541726}\n",
      "('interleaving_0.2_None divergence', 'henon', 1000) {'spearmanr': SpearmanrResult(correlation=0.7422893691574766, pvalue=1.2380315994625104e-88), 'pos_spearmanr': SpearmanrResult(correlation=0.6872978446004049, pvalue=3.3821796917038507e-34), 'classification_f1': 0.677076439285196, 'regression_neg_mean_absolute': -0.1394732374785026, 'pos_regression_neg_mean_absolute': -0.07420359393251576, 'regression_neg_mean_absolute_poly': -0.10145957621184018, 'pos_regression_neg_mean_absolute_poly': -0.0708830508853735}\n",
      "('interleaving_length_0.2_None divergence', 'henon', 1000) {'spearmanr': SpearmanrResult(correlation=0.7908889875559502, pvalue=2.7696216547566183e-108), 'pos_spearmanr': SpearmanrResult(correlation=0.6681757237833689, pvalue=9.281384552302442e-32), 'classification_f1': 0.7370088112642251, 'regression_neg_mean_absolute': -0.11957864738369106, 'pos_regression_neg_mean_absolute': -0.11589011447331211, 'regression_neg_mean_absolute_poly': -0.09194211585431322, 'pos_regression_neg_mean_absolute_poly': -0.07777477534758762}\n",
      "('interleaving_edge_0.2_None divergence', 'henon', 1000) {'spearmanr': SpearmanrResult(correlation=0.7477946071784287, pvalue=1.246204109209361e-90), 'pos_spearmanr': SpearmanrResult(correlation=0.6991677993841714, pvalue=8.291092883900287e-36), 'classification_f1': 0.7808576351847416, 'regression_neg_mean_absolute': -0.09619478166599509, 'pos_regression_neg_mean_absolute': -0.0990947513804626, 'regression_neg_mean_absolute_poly': -0.09514421805418759, 'pos_regression_neg_mean_absolute_poly': -0.06667694457936868}\n",
      "('interleaving_0.1_None divergence', 'henon', 1000) {'spearmanr': SpearmanrResult(correlation=0.7663302653210612, pvalue=9.354113833727857e-98), 'pos_spearmanr': SpearmanrResult(correlation=0.7459522686713455, pvalue=5.164517174758365e-43), 'classification_f1': 0.689207794312461, 'regression_neg_mean_absolute': -0.1322638805030535, 'pos_regression_neg_mean_absolute': -0.11668599432012029, 'regression_neg_mean_absolute_poly': -0.0995383186558365, 'pos_regression_neg_mean_absolute_poly': -0.061553279370447606}\n",
      "('interleaving_length_0.1_None divergence', 'henon', 1000) {'spearmanr': SpearmanrResult(correlation=0.810700586802347, pvalue=7.207367454226374e-118), 'pos_spearmanr': SpearmanrResult(correlation=0.7029080788186448, pvalue=2.4807546818016122e-36), 'classification_f1': 0.6687289744177886, 'regression_neg_mean_absolute': -0.13972040072995356, 'pos_regression_neg_mean_absolute': -0.07927982639305652, 'regression_neg_mean_absolute_poly': -0.08976603425299673, 'pos_regression_neg_mean_absolute_poly': -0.05980299332676022}\n",
      "('interleaving_edge_0.1_None divergence', 'henon', 1000) {'spearmanr': SpearmanrResult(correlation=0.7697541190164761, pvalue=3.821691172633199e-99), 'pos_spearmanr': SpearmanrResult(correlation=0.7474086197490452, pvalue=2.907396370859681e-43), 'classification_f1': 0.62103426490201, 'regression_neg_mean_absolute': -0.16475785081906244, 'pos_regression_neg_mean_absolute': -0.08065710993355042, 'regression_neg_mean_absolute_poly': -0.10279648914254493, 'pos_regression_neg_mean_absolute_poly': -0.041505221280237044}\n",
      "('bottleneck divergence', 'henon', 1000) {'spearmanr': SpearmanrResult(correlation=-0.6159097596390386, pvalue=1.5202820550346148e-53), 'pos_spearmanr': SpearmanrResult(correlation=0.04910723367268624, pvalue=0.4537139359239185), 'classification_f1': 0.7540396921651447, 'regression_neg_mean_absolute': -0.2056608440303607, 'pos_regression_neg_mean_absolute': -0.13494480240669376, 'regression_neg_mean_absolute_poly': -0.1827412194484573, 'pos_regression_neg_mean_absolute_poly': -0.11380182797686687}\n",
      "('wasserstein divergence', 'henon', 1000) {'spearmanr': SpearmanrResult(correlation=0.363438637754551, pvalue=4.651967076592317e-17), 'pos_spearmanr': SpearmanrResult(correlation=0.19209779281903336, pvalue=0.003109635622930986), 'classification_f1': 0.6382091225426396, 'regression_neg_mean_absolute': -0.2856832424085651, 'pos_regression_neg_mean_absolute': -0.13242036703675836, 'regression_neg_mean_absolute_poly': -0.24697150368937745, 'pos_regression_neg_mean_absolute_poly': -0.12722594154454855}\n",
      "('cophenetic divergence', 'ikeda', 1000) {'spearmanr': SpearmanrResult(correlation=0.632935907743631, pvalue=2.5148196700201924e-57), 'pos_spearmanr': SpearmanrResult(correlation=0.8851580885858084, pvalue=4.8358674800235174e-82), 'classification_f1': 0.6617184672912227, 'regression_neg_mean_absolute': -0.2702530600582064, 'pos_regression_neg_mean_absolute': -0.10220448892909925, 'regression_neg_mean_absolute_poly': -0.22859145294745403, 'pos_regression_neg_mean_absolute_poly': -0.05017905150126051}\n",
      "('cophenetic_reverse divergence', 'ikeda', 1000) {'spearmanr': SpearmanrResult(correlation=0.630444985779943, pvalue=9.299940134040742e-57), 'pos_spearmanr': SpearmanrResult(correlation=0.8865187727582163, pvalue=1.2526183739400611e-82), 'classification_f1': 0.7330537757711326, 'regression_neg_mean_absolute': -0.282100995191223, 'pos_regression_neg_mean_absolute': -0.09446302276850396, 'regression_neg_mean_absolute_poly': -0.23178811923393808, 'pos_regression_neg_mean_absolute_poly': -0.06069776479190273}\n",
      "('interleaving_0.5_None divergence', 'ikeda', 1000) {'spearmanr': SpearmanrResult(correlation=0.7004908979635918, pvalue=5.570674402491939e-75), 'pos_spearmanr': SpearmanrResult(correlation=0.8604500042652053, pvalue=1.5997221613170302e-72), 'classification_f1': 0.6107778170969465, 'regression_neg_mean_absolute': -0.28542869347191707, 'pos_regression_neg_mean_absolute': -0.0788042654727725, 'regression_neg_mean_absolute_poly': -0.2022514619483135, 'pos_regression_neg_mean_absolute_poly': -0.0746619908051302}\n",
      "('interleaving_length_0.5_None divergence', 'ikeda', 1000) {'spearmanr': SpearmanrResult(correlation=0.502814203256813, pvalue=2.146577991667604e-33), 'pos_spearmanr': SpearmanrResult(correlation=0.5076397356576194, pvalue=2.5402661299855392e-17), 'classification_f1': 0.9190467521837913, 'regression_neg_mean_absolute': -0.20895405831890088, 'pos_regression_neg_mean_absolute': -0.12276038194780409, 'regression_neg_mean_absolute_poly': -0.17698294866290076, 'pos_regression_neg_mean_absolute_poly': -0.11203991120592027}\n",
      "('interleaving_edge_0.5_None divergence', 'ikeda', 1000) {'spearmanr': SpearmanrResult(correlation=0.6940938163752655, pvalue=4.2428960596227477e-73), 'pos_spearmanr': SpearmanrResult(correlation=0.8719133711682148, pvalue=1.0816471866512231e-76), 'classification_f1': 0.6866365311878772, 'regression_neg_mean_absolute': -0.26459121111923445, 'pos_regression_neg_mean_absolute': -0.07135941485615112, 'regression_neg_mean_absolute_poly': -0.17461282190280508, 'pos_regression_neg_mean_absolute_poly': -0.07200749799073737}\n",
      "('interleaving_0.4_None divergence', 'ikeda', 1000) {'spearmanr': SpearmanrResult(correlation=0.6987138348553393, pvalue=1.877829283103967e-74), 'pos_spearmanr': SpearmanrResult(correlation=0.8605946867248406, pvalue=1.4248088475177316e-72), 'classification_f1': 0.6813266617750537, 'regression_neg_mean_absolute': -0.22550586820796636, 'pos_regression_neg_mean_absolute': -0.0757646101095355, 'regression_neg_mean_absolute_poly': -0.17510283950064331, 'pos_regression_neg_mean_absolute_poly': -0.06973501408878788}\n",
      "('interleaving_length_0.4_None divergence', 'ikeda', 1000) {'spearmanr': SpearmanrResult(correlation=0.48601000804003214, pvalue=5.3066470989291325e-31), 'pos_spearmanr': SpearmanrResult(correlation=0.3560902952358491, pvalue=1.1260645465436511e-08), 'classification_f1': 0.9346660741911064, 'regression_neg_mean_absolute': -0.17507569772266227, 'pos_regression_neg_mean_absolute': -0.12537362820604364, 'regression_neg_mean_absolute_poly': -0.16446703919278338, 'pos_regression_neg_mean_absolute_poly': -0.11427638628000539}\n",
      "('interleaving_edge_0.4_None divergence', 'ikeda', 1000) {'spearmanr': SpearmanrResult(correlation=0.6993745094980379, pvalue=1.1964804232567941e-74), 'pos_spearmanr': SpearmanrResult(correlation=0.8741229148581358, pvalue=1.527920100903351e-77), 'classification_f1': 0.6000998174484363, 'regression_neg_mean_absolute': -0.24386947475125237, 'pos_regression_neg_mean_absolute': -0.10040893964319655, 'regression_neg_mean_absolute_poly': -0.1732091937645045, 'pos_regression_neg_mean_absolute_poly': -0.0715854520225302}\n",
      "('interleaving_0.3_None divergence', 'ikeda', 1000) {'spearmanr': SpearmanrResult(correlation=0.6966773787095148, pvalue=7.476062430777465e-74), 'pos_spearmanr': SpearmanrResult(correlation=0.8535562614052429, pvalue=3.440435704561159e-70), 'classification_f1': 0.7186782398187554, 'regression_neg_mean_absolute': -0.2429253533048494, 'pos_regression_neg_mean_absolute': -0.06633816172303282, 'regression_neg_mean_absolute_poly': -0.1816042889302263, 'pos_regression_neg_mean_absolute_poly': -0.06970059627775056}\n",
      "('interleaving_length_0.3_None divergence', 'ikeda', 1000) {'spearmanr': SpearmanrResult(correlation=0.4874298537194149, pvalue=3.37063532111985e-31), 'pos_spearmanr': SpearmanrResult(correlation=0.3817643231453464, pvalue=7.501211436930183e-10), 'classification_f1': 0.9696236475739581, 'regression_neg_mean_absolute': -0.2096608198516552, 'pos_regression_neg_mean_absolute': -0.11641020598645474, 'regression_neg_mean_absolute_poly': -0.17522338805053445, 'pos_regression_neg_mean_absolute_poly': -0.10552982134711662}\n",
      "('interleaving_edge_0.3_None divergence', 'ikeda', 1000) {'spearmanr': SpearmanrResult(correlation=0.6963517454069816, pvalue=9.314272361813706e-74), 'pos_spearmanr': SpearmanrResult(correlation=0.8776463090919125, pvalue=6.236616013144187e-79), 'classification_f1': 0.7273644381452209, 'regression_neg_mean_absolute': -0.24085831618053752, 'pos_regression_neg_mean_absolute': -0.05673146183880904, 'regression_neg_mean_absolute_poly': -0.16548851532715184, 'pos_regression_neg_mean_absolute_poly': -0.05436489038279792}\n",
      "('interleaving_0.2_None divergence', 'ikeda', 1000) {'spearmanr': SpearmanrResult(correlation=0.6932047568190272, pvalue=7.678548905600014e-73), 'pos_spearmanr': SpearmanrResult(correlation=0.820429832352336, pvalue=1.913179765650883e-60), 'classification_f1': 0.7403731580832023, 'regression_neg_mean_absolute': -0.2746055879681781, 'pos_regression_neg_mean_absolute': -0.08023014140886171, 'regression_neg_mean_absolute_poly': -0.20658674357230106, 'pos_regression_neg_mean_absolute_poly': -0.07672320750059126}\n",
      "('interleaving_length_0.2_None divergence', 'ikeda', 1000) {'spearmanr': SpearmanrResult(correlation=0.4960191040764163, pvalue=2.067468240832181e-32), 'pos_spearmanr': SpearmanrResult(correlation=0.46168340132572616, pvalue=3.1235374673002224e-14), 'classification_f1': 0.9605322207920594, 'regression_neg_mean_absolute': -0.19659412415847358, 'pos_regression_neg_mean_absolute': -0.11966928575907919, 'regression_neg_mean_absolute_poly': -0.16333455143158535, 'pos_regression_neg_mean_absolute_poly': -0.12304667274304264}\n",
      "('interleaving_edge_0.2_None divergence', 'ikeda', 1000) {'spearmanr': SpearmanrResult(correlation=0.6971719726878908, pvalue=5.350711339551753e-74), 'pos_spearmanr': SpearmanrResult(correlation=0.8564674732086555, pvalue=3.685217563095954e-71), 'classification_f1': 0.6957361352098194, 'regression_neg_mean_absolute': -0.21233584560369417, 'pos_regression_neg_mean_absolute': -0.07856873026295985, 'regression_neg_mean_absolute_poly': -0.16016892038048763, 'pos_regression_neg_mean_absolute_poly': -0.0753664688667778}\n",
      "('interleaving_0.1_None divergence', 'ikeda', 1000) {'spearmanr': SpearmanrResult(correlation=0.7258467113868455, pvalue=5.8265299238669606e-83), 'pos_spearmanr': SpearmanrResult(correlation=0.8600652994592387, pvalue=2.1751208713982246e-72), 'classification_f1': 0.7280420535960508, 'regression_neg_mean_absolute': -0.22103214238261298, 'pos_regression_neg_mean_absolute': -0.1006465665835564, 'regression_neg_mean_absolute_poly': -0.19512908221076747, 'pos_regression_neg_mean_absolute_poly': -0.06588051215305193}\n",
      "('interleaving_length_0.1_None divergence', 'ikeda', 1000) {'spearmanr': SpearmanrResult(correlation=0.532820947283789, pvalue=5.165166696291678e-38), 'pos_spearmanr': SpearmanrResult(correlation=0.7508308787494082, pvalue=2.642688571147094e-45), 'classification_f1': 0.9689514578988264, 'regression_neg_mean_absolute': -0.21434808361200688, 'pos_regression_neg_mean_absolute': -0.10460632405315223, 'regression_neg_mean_absolute_poly': -0.1680466523146867, 'pos_regression_neg_mean_absolute_poly': -0.09196315103384153}\n",
      "('interleaving_edge_0.1_None divergence', 'ikeda', 1000) {'spearmanr': SpearmanrResult(correlation=0.7108437713750855, pvalue=3.907241216767284e-78), 'pos_spearmanr': SpearmanrResult(correlation=0.8693191226723269, pvalue=1.028330069446325e-75), 'classification_f1': 0.6399298315152616, 'regression_neg_mean_absolute': -0.25352785720404813, 'pos_regression_neg_mean_absolute': -0.07367985130838653, 'regression_neg_mean_absolute_poly': -0.21186546827411668, 'pos_regression_neg_mean_absolute_poly': -0.06342082750747781}\n",
      "('bottleneck divergence', 'ikeda', 1000) {'spearmanr': SpearmanrResult(correlation=-0.32262330649322596, pvalue=1.4176540384121417e-13), 'pos_spearmanr': SpearmanrResult(correlation=0.36116672604501715, pvalue=6.715666804956655e-09), 'classification_f1': 0.6431183367407116, 'regression_neg_mean_absolute': -0.4988461172602612, 'pos_regression_neg_mean_absolute': -0.14538735159898925, 'regression_neg_mean_absolute_poly': -0.4312641548987227, 'pos_regression_neg_mean_absolute_poly': -0.12489991631708415}\n",
      "('wasserstein divergence', 'ikeda', 1000) {'spearmanr': SpearmanrResult(correlation=0.6423789855159421, pvalue=1.5823208582887673e-59), 'pos_spearmanr': SpearmanrResult(correlation=0.7012742092225449, pvalue=2.7633337320841427e-37), 'classification_f1': 0.6849995775843404, 'regression_neg_mean_absolute': -0.3769497529426343, 'pos_regression_neg_mean_absolute': -0.1127896491582729, 'regression_neg_mean_absolute_poly': -0.2916616862734077, 'pos_regression_neg_mean_absolute_poly': -0.1005420952947281}\n",
      "('cophenetic divergence', 'logistic', 1000) {'spearmanr': SpearmanrResult(correlation=0.6578958155832623, pvalue=2.5645382365100805e-63), 'pos_spearmanr': SpearmanrResult(correlation=0.8948370844661224, pvalue=8.000983643017161e-135), 'classification_f1': 0.5783806483117673, 'regression_neg_mean_absolute': -0.41710076422270653, 'pos_regression_neg_mean_absolute': -0.06796687045498594, 'regression_neg_mean_absolute_poly': -0.4615288790408525, 'pos_regression_neg_mean_absolute_poly': -0.058689486540061224}\n",
      "('cophenetic_reverse divergence', 'logistic', 1000) {'spearmanr': SpearmanrResult(correlation=0.8866915147660589, pvalue=5.834022826831816e-169), 'pos_spearmanr': SpearmanrResult(correlation=0.9438588535485145, pvalue=2.128409415071523e-184), 'classification_f1': 0.6857057777961731, 'regression_neg_mean_absolute': -0.19593315276243908, 'pos_regression_neg_mean_absolute': -0.04261730837784118, 'regression_neg_mean_absolute_poly': -0.18492652367652146, 'pos_regression_neg_mean_absolute_poly': -0.042332133500164744}\n",
      "('interleaving_0.5_None divergence', 'logistic', 1000) {'spearmanr': SpearmanrResult(correlation=0.9426945867783469, pvalue=1.5207998969026553e-239), 'pos_spearmanr': SpearmanrResult(correlation=0.9637393872197499, pvalue=1.5157781681173653e-219), 'classification_f1': 0.6810868945710229, 'regression_neg_mean_absolute': -0.17201126668305644, 'pos_regression_neg_mean_absolute': -0.05268325892391863, 'regression_neg_mean_absolute_poly': -0.10148743390731987, 'pos_regression_neg_mean_absolute_poly': -0.035838006057464844}\n",
      "('interleaving_length_0.5_None divergence', 'logistic', 1000) {'spearmanr': SpearmanrResult(correlation=0.8612354769419077, pvalue=1.680916333442682e-148), 'pos_spearmanr': SpearmanrResult(correlation=0.7500302679855841, pvalue=4.9337126364866544e-70), 'classification_f1': 0.8374597208625442, 'regression_neg_mean_absolute': -0.1197018782200496, 'pos_regression_neg_mean_absolute': -0.11144387272430287, 'regression_neg_mean_absolute_poly': -0.08613291642264535, 'pos_regression_neg_mean_absolute_poly': -0.1015173467224102}\n",
      "('interleaving_edge_0.5_None divergence', 'logistic', 1000) {'spearmanr': SpearmanrResult(correlation=0.8900110160440641, pvalue=5.483429087374509e-172), 'pos_spearmanr': SpearmanrResult(correlation=0.919281466228956, pvalue=1.4958507045117484e-155), 'classification_f1': 0.6547414730009504, 'regression_neg_mean_absolute': -0.24236928470185454, 'pos_regression_neg_mean_absolute': -0.165675642982742, 'regression_neg_mean_absolute_poly': -0.14000163926107745, 'pos_regression_neg_mean_absolute_poly': -0.07937090086189108}\n",
      "('interleaving_0.4_None divergence', 'logistic', 1000) {'spearmanr': SpearmanrResult(correlation=0.9455640382561529, pvalue=6.098734964154309e-245), 'pos_spearmanr': SpearmanrResult(correlation=0.9692889518597995, pvalue=5.492640059095388e-233), 'classification_f1': 0.7235156594407068, 'regression_neg_mean_absolute': -0.13082566281396374, 'pos_regression_neg_mean_absolute': -0.03104827114149604, 'regression_neg_mean_absolute_poly': -0.09680004692223039, 'pos_regression_neg_mean_absolute_poly': -0.030596974034620722}\n",
      "('interleaving_length_0.4_None divergence', 'logistic', 1000) {'spearmanr': SpearmanrResult(correlation=0.8520910563642254, pvalue=3.97036074420682e-142), 'pos_spearmanr': SpearmanrResult(correlation=0.7327534319990104, pvalue=2.437058101531535e-65), 'classification_f1': 0.8027597695197277, 'regression_neg_mean_absolute': -0.12712392662950459, 'pos_regression_neg_mean_absolute': -0.10992304074646157, 'regression_neg_mean_absolute_poly': -0.10953756579254285, 'pos_regression_neg_mean_absolute_poly': -0.1086847216462526}\n",
      "('interleaving_edge_0.4_None divergence', 'logistic', 1000) {'spearmanr': SpearmanrResult(correlation=0.9051072684290736, pvalue=4.237981458723655e-187), 'pos_spearmanr': SpearmanrResult(correlation=0.9406788707763141, pvalue=5.359810269516184e-180), 'classification_f1': 0.6492802595623444, 'regression_neg_mean_absolute': -0.21313047322940878, 'pos_regression_neg_mean_absolute': -0.1171251820454447, 'regression_neg_mean_absolute_poly': -0.13588917633399353, 'pos_regression_neg_mean_absolute_poly': -0.07203533605990926}\n",
      "('interleaving_0.3_None divergence', 'logistic', 1000) {'spearmanr': SpearmanrResult(correlation=0.941309493237973, pvalue=4.8782057147466516e-237), 'pos_spearmanr': SpearmanrResult(correlation=0.9662625872509941, pvalue=2.2356631365110054e-225), 'classification_f1': 0.8024566409078826, 'regression_neg_mean_absolute': -0.15385454632720322, 'pos_regression_neg_mean_absolute': -0.04228808016648917, 'regression_neg_mean_absolute_poly': -0.09072687297393187, 'pos_regression_neg_mean_absolute_poly': -0.03409334597043132}\n",
      "('interleaving_length_0.3_None divergence', 'logistic', 1000) {'spearmanr': SpearmanrResult(correlation=0.861935895743583, pvalue=5.231942136983552e-149), 'pos_spearmanr': SpearmanrResult(correlation=0.7554385820262408, pvalue=1.3927574142650498e-71), 'classification_f1': 0.815120315460536, 'regression_neg_mean_absolute': -0.12809015032160756, 'pos_regression_neg_mean_absolute': -0.11291815252794662, 'regression_neg_mean_absolute_poly': -0.11068503448104858, 'pos_regression_neg_mean_absolute_poly': -0.10507204761795949}\n",
      "('interleaving_edge_0.3_None divergence', 'logistic', 1000) {'spearmanr': SpearmanrResult(correlation=0.8979188556754226, pvalue=1.3128987044362826e-179), 'pos_spearmanr': SpearmanrResult(correlation=0.9326345298047444, pvalue=7.189583255140468e-170), 'classification_f1': 0.6849087197974202, 'regression_neg_mean_absolute': -0.214131177887103, 'pos_regression_neg_mean_absolute': -0.12264795046613043, 'regression_neg_mean_absolute_poly': -0.13797551758094237, 'pos_regression_neg_mean_absolute_poly': -0.07215927839802973}\n",
      "('interleaving_0.2_None divergence', 'logistic', 1000) {'spearmanr': SpearmanrResult(correlation=0.9330071880287519, pvalue=3.437563039570158e-223), 'pos_spearmanr': SpearmanrResult(correlation=0.9546225397769064, pvalue=1.8198117717242978e-201), 'classification_f1': 0.8057140758074143, 'regression_neg_mean_absolute': -0.08588909343116574, 'pos_regression_neg_mean_absolute': -0.05540084759792793, 'regression_neg_mean_absolute_poly': -0.07664938283631213, 'pos_regression_neg_mean_absolute_poly': -0.049090764219996794}\n",
      "('interleaving_length_0.2_None divergence', 'logistic', 1000) {'spearmanr': SpearmanrResult(correlation=0.8671818367273468, pvalue=6.780913254055614e-153), 'pos_spearmanr': SpearmanrResult(correlation=0.7476954020868636, pvalue=2.237649004979561e-69), 'classification_f1': 0.8227742071774806, 'regression_neg_mean_absolute': -0.09305930906817443, 'pos_regression_neg_mean_absolute': -0.11624940764486298, 'regression_neg_mean_absolute_poly': -0.08077802554054798, 'pos_regression_neg_mean_absolute_poly': -0.10444280121625416}\n",
      "('interleaving_edge_0.2_None divergence', 'logistic', 1000) {'spearmanr': SpearmanrResult(correlation=0.8505756903027613, pvalue=4.105468239232058e-141), 'pos_spearmanr': SpearmanrResult(correlation=0.9161173226176709, pvalue=1.6034302245744744e-152), 'classification_f1': 0.7949899730735899, 'regression_neg_mean_absolute': -0.1280213537616122, 'pos_regression_neg_mean_absolute': -0.06520347825364928, 'regression_neg_mean_absolute_poly': -0.0809671531697776, 'pos_regression_neg_mean_absolute_poly': -0.06427700145320178}\n",
      "('interleaving_0.1_None divergence', 'logistic', 1000) {'spearmanr': SpearmanrResult(correlation=0.8164566738266953, pvalue=7.222500021250931e-121), 'pos_spearmanr': SpearmanrResult(correlation=0.8549714352666511, pvalue=4.2200324281238703e-110), 'classification_f1': 0.8868780618814149, 'regression_neg_mean_absolute': -0.15916036839252964, 'pos_regression_neg_mean_absolute': -0.1171788875009574, 'regression_neg_mean_absolute_poly': -0.17172492085486815, 'pos_regression_neg_mean_absolute_poly': -0.10679566133353774}\n",
      "('interleaving_length_0.1_None divergence', 'logistic', 1000) {'spearmanr': SpearmanrResult(correlation=0.8226315145260581, pvalue=3.32465028035822e-124), 'pos_spearmanr': SpearmanrResult(correlation=0.6700125628413284, pvalue=5.56559562192628e-51), 'classification_f1': 0.876697404899329, 'regression_neg_mean_absolute': -0.1110849116116411, 'pos_regression_neg_mean_absolute': -0.17892853148144292, 'regression_neg_mean_absolute_poly': -0.09697972630968443, 'pos_regression_neg_mean_absolute_poly': -0.13169669526008387}\n",
      "('interleaving_edge_0.1_None divergence', 'logistic', 1000) {'spearmanr': SpearmanrResult(correlation=0.7194700778803115, pvalue=7.167514692622741e-81), 'pos_spearmanr': SpearmanrResult(correlation=0.832353981379222, pvalue=3.5835912924033817e-99), 'classification_f1': 0.8367326932555871, 'regression_neg_mean_absolute': -0.23041954033136103, 'pos_regression_neg_mean_absolute': -0.19325542039124433, 'regression_neg_mean_absolute_poly': -0.27189932212322215, 'pos_regression_neg_mean_absolute_poly': -0.16308754921545388}\n",
      "('bottleneck divergence', 'logistic', 1000) {'spearmanr': SpearmanrResult(correlation=-0.42579491917967666, pvalue=1.9407448826341392e-23), 'pos_spearmanr': SpearmanrResult(correlation=-0.15116591412571084, pvalue=0.003096806378036823), 'classification_f1': 0.8263187387325319, 'regression_neg_mean_absolute': -0.3919597352041263, 'pos_regression_neg_mean_absolute': -0.19818575590751478, 'regression_neg_mean_absolute_poly': -0.35159744889151634, 'pos_regression_neg_mean_absolute_poly': -0.17866075271065754}\n",
      "('wasserstein divergence', 'logistic', 1000) {'spearmanr': SpearmanrResult(correlation=0.24813392649092028, pvalue=1.879662916144469e-08), 'pos_spearmanr': SpearmanrResult(correlation=0.19618297919428573, pvalue=0.00011607283783551152), 'classification_f1': 0.8261862005170293, 'regression_neg_mean_absolute': -0.31570057105452615, 'pos_regression_neg_mean_absolute': -0.1918142647163249, 'regression_neg_mean_absolute_poly': -0.2872159479614464, 'pos_regression_neg_mean_absolute_poly': -0.16371520272222564}\n",
      "('cophenetic divergence', 'tinkerbell', 1000) {'spearmanr': SpearmanrResult(correlation=0.6599095196380784, pvalue=7.95331333579384e-64), 'pos_spearmanr': SpearmanrResult(correlation=0.7575848529843909, pvalue=2.763992153257994e-84), 'classification_f1': 0.6843581947077598, 'regression_neg_mean_absolute': -0.28275136681938423, 'pos_regression_neg_mean_absolute': -0.04250528408853599, 'regression_neg_mean_absolute_poly': -0.2072461691101916, 'pos_regression_neg_mean_absolute_poly': -0.019973471126699435}\n",
      "('cophenetic_reverse divergence', 'tinkerbell', 1000) {'spearmanr': SpearmanrResult(correlation=0.6608907395629582, pvalue=4.4808704163959674e-64), 'pos_spearmanr': SpearmanrResult(correlation=0.765226398052484, pvalue=5.852694100898062e-87), 'classification_f1': 0.6071269590740478, 'regression_neg_mean_absolute': -0.34275904239447624, 'pos_regression_neg_mean_absolute': -0.05292925112509341, 'regression_neg_mean_absolute_poly': -0.22341390999894695, 'pos_regression_neg_mean_absolute_poly': -0.022563159953136937}\n",
      "('interleaving_0.5_None divergence', 'tinkerbell', 1000) {'spearmanr': SpearmanrResult(correlation=0.7266412105648422, pvalue=3.1685850430619074e-83), 'pos_spearmanr': SpearmanrResult(correlation=0.7741518590370697, pvalue=3.249018884332675e-90), 'classification_f1': 0.7806837630696368, 'regression_neg_mean_absolute': -0.22757424085894765, 'pos_regression_neg_mean_absolute': -0.07962901230464181, 'regression_neg_mean_absolute_poly': -0.16192044356152116, 'pos_regression_neg_mean_absolute_poly': -0.026332160582410197}\n",
      "('interleaving_length_0.5_None divergence', 'tinkerbell', 1000) {'spearmanr': SpearmanrResult(correlation=0.5972402769611078, pvalue=1.1777712865688266e-49), 'pos_spearmanr': SpearmanrResult(correlation=0.7125608218306284, pvalue=2.459573237257441e-70), 'classification_f1': 0.8646345684626322, 'regression_neg_mean_absolute': -0.1465589537882502, 'pos_regression_neg_mean_absolute': -0.026902462260362928, 'regression_neg_mean_absolute_poly': -0.10184617118665952, 'pos_regression_neg_mean_absolute_poly': -0.0212780693624645}\n",
      "('interleaving_edge_0.5_None divergence', 'tinkerbell', 1000) {'spearmanr': SpearmanrResult(correlation=0.5810958923835695, pvalue=1.7151680842867967e-46), 'pos_spearmanr': SpearmanrResult(correlation=0.7278156420103727, pvalue=9.531642861783984e-75), 'classification_f1': 0.7890562220182422, 'regression_neg_mean_absolute': -0.27230542592517576, 'pos_regression_neg_mean_absolute': -0.030695548307206062, 'regression_neg_mean_absolute_poly': -0.15351483713576625, 'pos_regression_neg_mean_absolute_poly': -0.019206715634193464}\n",
      "('interleaving_0.4_None divergence', 'tinkerbell', 1000) {'spearmanr': SpearmanrResult(correlation=0.7250076680306721, pvalue=1.1060537818024975e-82), 'pos_spearmanr': SpearmanrResult(correlation=0.77591785210552, pvalue=7.076788582532937e-91), 'classification_f1': 0.770207086664912, 'regression_neg_mean_absolute': -0.22955801770932854, 'pos_regression_neg_mean_absolute': -0.08141761684827646, 'regression_neg_mean_absolute_poly': -0.1632622969727124, 'pos_regression_neg_mean_absolute_poly': -0.026953420970158307}\n",
      "('interleaving_length_0.4_None divergence', 'tinkerbell', 1000) {'spearmanr': SpearmanrResult(correlation=0.5857159108636434, pvalue=2.224121580082648e-47), 'pos_spearmanr': SpearmanrResult(correlation=0.700881812983417, pvalue=3.785480519057647e-67), 'classification_f1': 0.8712272771889067, 'regression_neg_mean_absolute': -0.15249295017919973, 'pos_regression_neg_mean_absolute': -0.03192578393532609, 'regression_neg_mean_absolute_poly': -0.1028700939633212, 'pos_regression_neg_mean_absolute_poly': -0.02284183054037662}\n",
      "('interleaving_edge_0.4_None divergence', 'tinkerbell', 1000) {'spearmanr': SpearmanrResult(correlation=0.5780971283885135, pvalue=6.3474524317558795e-46), 'pos_spearmanr': SpearmanrResult(correlation=0.7283020475767135, pvalue=6.81661688111384e-75), 'classification_f1': 0.7973252303583145, 'regression_neg_mean_absolute': -0.26384208804913334, 'pos_regression_neg_mean_absolute': -0.03662692979144519, 'regression_neg_mean_absolute_poly': -0.15598158027918463, 'pos_regression_neg_mean_absolute_poly': -0.01977435091090517}\n",
      "('interleaving_0.3_None divergence', 'tinkerbell', 1000) {'spearmanr': SpearmanrResult(correlation=0.7305457381829528, pvalue=1.5384060270627826e-84), 'pos_spearmanr': SpearmanrResult(correlation=0.7790205136407611, pvalue=4.7003900703541804e-92), 'classification_f1': 0.7425725636829726, 'regression_neg_mean_absolute': -0.23845265649563058, 'pos_regression_neg_mean_absolute': -0.08232792157046942, 'regression_neg_mean_absolute_poly': -0.16781176285171415, 'pos_regression_neg_mean_absolute_poly': -0.02641080775783878}\n",
      "('interleaving_length_0.3_None divergence', 'tinkerbell', 1000) {'spearmanr': SpearmanrResult(correlation=0.5883970095880383, pvalue=6.695295488740755e-48), 'pos_spearmanr': SpearmanrResult(correlation=0.7036253513877809, pvalue=6.973286829232571e-68), 'classification_f1': 0.8989587164646917, 'regression_neg_mean_absolute': -0.12868077038469394, 'pos_regression_neg_mean_absolute': -0.026693398553423384, 'regression_neg_mean_absolute_poly': -0.09837574782577027, 'pos_regression_neg_mean_absolute_poly': -0.021747977559444086}\n",
      "('interleaving_edge_0.3_None divergence', 'tinkerbell', 1000) {'spearmanr': SpearmanrResult(correlation=0.5838890235560943, pvalue=5.007951858551304e-47), 'pos_spearmanr': SpearmanrResult(correlation=0.7303952417199631, pvalue=1.5972566829429287e-75), 'classification_f1': 0.804060653575522, 'regression_neg_mean_absolute': -0.2497982298379364, 'pos_regression_neg_mean_absolute': -0.03641802959116837, 'regression_neg_mean_absolute_poly': -0.15488644922249778, 'pos_regression_neg_mean_absolute_poly': -0.020519691724585787}\n",
      "('interleaving_0.2_None divergence', 'tinkerbell', 1000) {'spearmanr': SpearmanrResult(correlation=0.73675091500366, pvalue=1.1247484099159927e-86), 'pos_spearmanr': SpearmanrResult(correlation=0.789270334163735, pvalue=4.378798054173724e-96), 'classification_f1': 0.7449425998590827, 'regression_neg_mean_absolute': -0.2276307295627866, 'pos_regression_neg_mean_absolute': -0.07373223460871799, 'regression_neg_mean_absolute_poly': -0.1475644080036317, 'pos_regression_neg_mean_absolute_poly': -0.026431727005826175}\n",
      "('interleaving_length_0.2_None divergence', 'tinkerbell', 1000) {'spearmanr': SpearmanrResult(correlation=0.5944880419521678, pvalue=4.197565168227985e-49), 'pos_spearmanr': SpearmanrResult(correlation=0.7146904017072889, pvalue=6.200466715432217e-71), 'classification_f1': 0.902469045120099, 'regression_neg_mean_absolute': -0.1323397609187773, 'pos_regression_neg_mean_absolute': -0.026007115623125632, 'regression_neg_mean_absolute_poly': -0.09550275135744517, 'pos_regression_neg_mean_absolute_poly': -0.020970826275536102}\n",
      "('interleaving_edge_0.2_None divergence', 'tinkerbell', 1000) {'spearmanr': SpearmanrResult(correlation=0.5858289033156132, pvalue=2.1148664865291747e-47), 'pos_spearmanr': SpearmanrResult(correlation=0.7336457456589892, pvalue=1.632771199570994e-76), 'classification_f1': 0.8113206949942416, 'regression_neg_mean_absolute': -0.25569619323516846, 'pos_regression_neg_mean_absolute': -0.031804583758070465, 'regression_neg_mean_absolute_poly': -0.15289488984403712, 'pos_regression_neg_mean_absolute_poly': -0.020683867819763408}\n",
      "('interleaving_0.1_None divergence', 'tinkerbell', 1000) {'spearmanr': SpearmanrResult(correlation=0.7320284641138565, pvalue=4.809602642634694e-85), 'pos_spearmanr': SpearmanrResult(correlation=0.7816286538326925, pvalue=4.647679516995499e-93), 'classification_f1': 0.7452862088451504, 'regression_neg_mean_absolute': -0.21105411521359757, 'pos_regression_neg_mean_absolute': -0.07492419237319506, 'regression_neg_mean_absolute_poly': -0.14438731155393592, 'pos_regression_neg_mean_absolute_poly': -0.026587065063611363}\n",
      "('interleaving_length_0.1_None divergence', 'tinkerbell', 1000) {'spearmanr': SpearmanrResult(correlation=0.5789645878583515, pvalue=4.3532343095136535e-46), 'pos_spearmanr': SpearmanrResult(correlation=0.6971977912912979, pvalue=3.5607114066616107e-66), 'classification_f1': 0.8788157725401925, 'regression_neg_mean_absolute': -0.13616517275921314, 'pos_regression_neg_mean_absolute': -0.035607335701338366, 'regression_neg_mean_absolute_poly': -0.10083981670401533, 'pos_regression_neg_mean_absolute_poly': -0.022674517302569943}\n",
      "('interleaving_edge_0.1_None divergence', 'tinkerbell', 1000) {'spearmanr': SpearmanrResult(correlation=0.5745048900195601, pvalue=2.990034756971583e-45), 'pos_spearmanr': SpearmanrResult(correlation=0.7209877035834199, pvalue=9.777501780432908e-73), 'classification_f1': 0.8274331503885953, 'regression_neg_mean_absolute': -0.22377012681072245, 'pos_regression_neg_mean_absolute': -0.0507552615605259, 'regression_neg_mean_absolute_poly': -0.15575828011415768, 'pos_regression_neg_mean_absolute_poly': -0.02264387162518881}\n",
      "('bottleneck divergence', 'tinkerbell', 1000) {'spearmanr': SpearmanrResult(correlation=-0.09234200136800547, pvalue=0.03901072500000426), 'pos_spearmanr': SpearmanrResult(correlation=0.029966627248788805, pvalue=0.5278951485077786), 'classification_f1': 0.9022942920831991, 'regression_neg_mean_absolute': -0.14269992932847742, 'pos_regression_neg_mean_absolute': -0.05487828906038726, 'regression_neg_mean_absolute_poly': -0.1210722446449987, 'pos_regression_neg_mean_absolute_poly': -0.04307121304439776}\n",
      "('wasserstein divergence', 'tinkerbell', 1000) {'spearmanr': SpearmanrResult(correlation=0.514873195492782, pvalue=3.3938139563376583e-35), 'pos_spearmanr': SpearmanrResult(correlation=0.577499955194148, pvalue=4.98040690976197e-41), 'classification_f1': 0.8972656231650644, 'regression_neg_mean_absolute': -0.12254263690398093, 'pos_regression_neg_mean_absolute': -0.033878450592800806, 'regression_neg_mean_absolute_poly': -0.09262860614830327, 'pos_regression_neg_mean_absolute_poly': -0.027065774979608513}\n"
     ]
    }
   ],
   "source": [
    "with open(f\"outputs/data/DIVERGENCE_results_{LENGTH}.pkl\", \"wb\") as file:\n",
    "    pickle.dump(all_results_divergences, file)\n",
    "\n",
    "\n",
    "for result in all_results_divergences:\n",
    "    print(result, all_results_divergences[result])"
   ]
  }
 ],
 "metadata": {
  "kernelspec": {
   "display_name": "chaos-chapter",
   "language": "python",
   "name": "python3"
  },
  "language_info": {
   "codemirror_mode": {
    "name": "ipython",
    "version": 3
   },
   "file_extension": ".py",
   "mimetype": "text/x-python",
   "name": "python",
   "nbconvert_exporter": "python",
   "pygments_lexer": "ipython3",
   "version": "3.10.12"
  },
  "orig_nbformat": 4
 },
 "nbformat": 4,
 "nbformat_minor": 2
}
