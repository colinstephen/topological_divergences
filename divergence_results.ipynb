{
 "cells": [
  {
   "cell_type": "markdown",
   "metadata": {},
   "source": [
    "# Topological Divergence Results\n",
    "\n",
    "Load, visualise, and summarise the topological divergences computed for the test systems."
   ]
  },
  {
   "cell_type": "code",
   "execution_count": 2,
   "metadata": {},
   "outputs": [],
   "source": [
    "import os\n",
    "import pickle\n",
    "from trajectories import generate_trajectories\n",
    "from plots_and_correlates import plot_lce_estimate_and_correlation\n",
    "from lca_supervised_learning import score_classification\n",
    "from lca_supervised_learning import score_regression\n",
    "from lca_supervised_learning import score_regression_pos\n",
    "from lca_supervised_learning import score_regression_KNN\n",
    "from lca_supervised_learning import score_regression_pos_KNN\n"
   ]
  },
  {
   "cell_type": "code",
   "execution_count": 3,
   "metadata": {},
   "outputs": [],
   "source": [
    "SYS_NAMES = [\"henon\", \"ikeda\", \"logistic\", \"tinkerbell\"]\n",
    "# SYS_NAMES = [\"logistic\" \"henon\"]\n",
    "DIV_TYPES = [\"dmt\", \"mt\", \"hvg\", \"ph\"]\n",
    "# DIV_TYPES = [\"dmt\", \"mt\"]\n",
    "RES_TYPES = [\"correlations\", \"divergences\"]"
   ]
  },
  {
   "cell_type": "code",
   "execution_count": 4,
   "metadata": {},
   "outputs": [
    {
     "name": "stdout",
     "output_type": "stream",
     "text": [
      "Experiment config -- SEED:42, LENGTH:500, SAMPLES:500\n"
     ]
    }
   ],
   "source": [
    "SEED = 42\n",
    "SAMPLES = 500\n",
    "LENGTH = 500\n",
    "experimental_data = generate_trajectories(\n",
    "    RANDOM_SEED=SEED, TS_LENGTH=LENGTH, CONTROL_PARAM_SAMPLES=SAMPLES\n",
    ")"
   ]
  },
  {
   "cell_type": "code",
   "execution_count": 5,
   "metadata": {},
   "outputs": [],
   "source": [
    "logistic_trajectories = experimental_data[\"logistic\"][\"trajectories\"]\n",
    "logistic_lces = experimental_data[\"logistic\"][\"lces\"]\n",
    "logistic_control_params = experimental_data[\"logistic\"][\"sys_params\"]"
   ]
  },
  {
   "cell_type": "code",
   "execution_count": 6,
   "metadata": {},
   "outputs": [],
   "source": [
    "henon_trajectories = experimental_data[\"henon\"][\"trajectories\"]\n",
    "henon_lces = experimental_data[\"henon\"][\"lces\"]\n",
    "henon_control_params = experimental_data[\"henon\"][\"sys_params\"]"
   ]
  },
  {
   "cell_type": "code",
   "execution_count": 7,
   "metadata": {},
   "outputs": [],
   "source": [
    "ikeda_trajectories = experimental_data[\"ikeda\"][\"trajectories\"]\n",
    "ikeda_lces = experimental_data[\"ikeda\"][\"lces\"]\n",
    "ikeda_control_params = experimental_data[\"ikeda\"][\"sys_params\"]"
   ]
  },
  {
   "cell_type": "code",
   "execution_count": 8,
   "metadata": {},
   "outputs": [],
   "source": [
    "tinkerbell_trajectories = experimental_data[\"tinkerbell\"][\"trajectories\"]\n",
    "tinkerbell_lces = experimental_data[\"tinkerbell\"][\"lces\"]\n",
    "tinkerbell_control_params = experimental_data[\"tinkerbell\"][\"sys_params\"]"
   ]
  },
  {
   "cell_type": "code",
   "execution_count": 9,
   "metadata": {},
   "outputs": [],
   "source": [
    "system_data = {\n",
    "    \"logistic\": {\n",
    "        \"trajectories\": logistic_trajectories,\n",
    "        \"lces\": logistic_lces,\n",
    "        \"control_params\": logistic_control_params,\n",
    "        \"param_name\": \"r\",\n",
    "    },\n",
    "    \"henon\": {\n",
    "        \"trajectories\": henon_trajectories,\n",
    "        \"lces\": henon_lces,\n",
    "        \"control_params\": henon_control_params,\n",
    "        \"param_name\": \"a\",\n",
    "    },\n",
    "    \"ikeda\": {\n",
    "        \"trajectories\": ikeda_trajectories,\n",
    "        \"lces\": ikeda_lces,\n",
    "        \"control_params\": ikeda_control_params,\n",
    "        \"param_name\": \"a\",\n",
    "    },\n",
    "    \"tinkerbell\": {\n",
    "        \"trajectories\": tinkerbell_trajectories,\n",
    "        \"lces\": tinkerbell_lces,\n",
    "        \"control_params\": tinkerbell_control_params,\n",
    "        \"param_name\": \"a\",\n",
    "    },\n",
    "}"
   ]
  },
  {
   "cell_type": "code",
   "execution_count": 10,
   "metadata": {},
   "outputs": [],
   "source": [
    "def find_first_matching_file(path, prefix):\n",
    "    for filename in os.listdir(path):\n",
    "        if filename.startswith(prefix):\n",
    "            return os.path.join(path, filename)\n"
   ]
  },
  {
   "cell_type": "code",
   "execution_count": 11,
   "metadata": {},
   "outputs": [],
   "source": [
    "def load_results_file(sys_name, div_name, res_type=\"correlations\", seed=42, length=1000, samples=500):\n",
    "\n",
    "    assert sys_name in SYS_NAMES, \"unrecognised system name\"\n",
    "    assert div_name in DIV_TYPES, \"unrecognised divergence name\"\n",
    "    assert res_type in RES_TYPES, \"unrecognised results type\"\n",
    "\n",
    "    results_dir = \"./outputs/data/divergence_results\"\n",
    "    filename_prefix = f\"SEED_{seed}__LENGTH_{length}__SAMPLES_{samples}__{sys_name}_{div_name}_{res_type}__\"\n",
    "    filename = find_first_matching_file(results_dir, filename_prefix)\n",
    "\n",
    "    with open(filename, 'rb') as results_file:\n",
    "        data = pickle.load(results_file)\n",
    "\n",
    "    return data"
   ]
  },
  {
   "cell_type": "markdown",
   "metadata": {},
   "source": [
    "## Visualise divergences and get Spearman and supervised learning results"
   ]
  },
  {
   "cell_type": "code",
   "execution_count": 12,
   "metadata": {},
   "outputs": [],
   "source": [
    "DIVS_TO_REPORT = [\n",
    "    \"cophenetic\",\n",
    "    \"cophenetic_reverse\",\n",
    "    # \"bottleneck\",\n",
    "    # \"wasserstein\",\n",
    "    # \"cophenetic_linf\",\n",
    "    # \"cophenetic_reverse_linf\",\n",
    "]\n",
    "\n",
    "# MASKS = [0.1, 0.2, 0.3, 0.4, 0.5]\n",
    "# DIVS_TO_REPORT.extend([f\"interleaving_{mask}_None\" for mask in MASKS])\n",
    "# DIVS_TO_REPORT.extend([f\"interleaving_edge_{mask}_None\" for mask in MASKS])\n",
    "# DIVS_TO_REPORT.extend([f\"interleaving_length_{mask}_None\" for mask in MASKS])\n",
    "\n",
    "\n",
    "def generate_correlations_and_scores_from_results_files(\n",
    "    system_data, SYS_NAMES=SYS_NAMES, DIV_TYPES=DIV_TYPES\n",
    "):\n",
    "    correlations_and_scores = {}\n",
    "    res_type = \"divergences\"\n",
    "    for sys_name in SYS_NAMES:\n",
    "        sys_data = system_data[sys_name]\n",
    "        param_name = sys_data[\"param_name\"]\n",
    "        lces_actual = sys_data[\"lces\"]\n",
    "        control_params = sys_data[\"control_params\"]\n",
    "        for div_type in DIV_TYPES:\n",
    "            divergence_results = load_results_file(\n",
    "                sys_name,\n",
    "                div_type,\n",
    "                res_type=res_type,\n",
    "                seed=SEED,\n",
    "                length=LENGTH,\n",
    "                samples=SAMPLES,\n",
    "            )\n",
    "            divergence_data = divergence_results[\"data\"]\n",
    "            for div_name, divergences in divergence_data.items():\n",
    "                # if div_name not in DIVS_TO_REPORT:\n",
    "                #     continue\n",
    "                div_name = f\"{div_name} divergence\"\n",
    "                correlations_and_scores[\n",
    "                    div_name, sys_name, LENGTH\n",
    "                ] = plot_lce_estimate_and_correlation(\n",
    "                    div_name,\n",
    "                    sys_name,\n",
    "                    param_name,\n",
    "                    divergences,\n",
    "                    lces_actual,\n",
    "                    control_params,\n",
    "                    LENGTH,\n",
    "                    plot_actual=True,\n",
    "                    save_plot=True,\n",
    "                    sharey=False,\n",
    "                    logy=False,\n",
    "                    twoy=True,\n",
    "                    show_plot=False,\n",
    "                )\n",
    "                correlations_and_scores[div_name, sys_name, LENGTH] |= {\n",
    "                    \"classification_f1\": score_classification(\n",
    "                        divergences.reshape(-1, 1), lces_actual\n",
    "                    ),\n",
    "                    \"regression_neg_mean_absolute\": score_regression(\n",
    "                        divergences.reshape(-1, 1), lces_actual\n",
    "                    ),\n",
    "                    \"pos_regression_neg_mean_absolute\": score_regression_pos(\n",
    "                        divergences.reshape(-1, 1), lces_actual\n",
    "                    ),\n",
    "                    \"regression_neg_mean_absolute_poly\": score_regression_KNN(\n",
    "                        divergences.reshape(-1, 1), lces_actual\n",
    "                    ),\n",
    "                    \"pos_regression_neg_mean_absolute_poly\": score_regression_pos_KNN(\n",
    "                        divergences.reshape(-1, 1), lces_actual\n",
    "                    ),\n",
    "                }\n",
    "    return correlations_and_scores\n"
   ]
  },
  {
   "cell_type": "code",
   "execution_count": 13,
   "metadata": {},
   "outputs": [],
   "source": [
    "all_results_divergences = generate_correlations_and_scores_from_results_files(\n",
    "    system_data, SYS_NAMES=SYS_NAMES, DIV_TYPES=DIV_TYPES\n",
    ")"
   ]
  },
  {
   "cell_type": "code",
   "execution_count": 14,
   "metadata": {},
   "outputs": [
    {
     "name": "stdout",
     "output_type": "stream",
     "text": [
      "('cophenetic divergence', 'henon', 500) {'spearmanr': SpearmanrResult(correlation=0.7364815379261517, pvalue=1.3964935941194425e-86), 'pos_spearmanr': SpearmanrResult(correlation=0.7467992639647886, pvalue=3.699273942702137e-43), 'pearsonr': (0.749995101739337, 1.9174688020558558e-91), 'pos_pearsonr': (0.7332609456457777, 6.572077779240664e-41), 'classification_f1': 0.7701461158411967, 'regression_neg_mean_absolute': -0.08808694157150157, 'pos_regression_neg_mean_absolute': -0.0650528426857522, 'regression_neg_mean_absolute_poly': -0.08548396353638935, 'pos_regression_neg_mean_absolute_poly': -0.05996216467716961}\n",
      "('cophenetic_reverse divergence', 'henon', 500) {'spearmanr': SpearmanrResult(correlation=0.7987872271489085, pvalue=5.628398730614848e-112), 'pos_spearmanr': SpearmanrResult(correlation=0.8319056469435119, pvalue=1.5924061305414393e-61), 'pearsonr': (0.7754331494635098, 1.6781552884875256e-101), 'pos_pearsonr': (0.7699282826728137, 2.3658523585789734e-47), 'classification_f1': 0.7847402826896952, 'regression_neg_mean_absolute': -0.11803847237876249, 'pos_regression_neg_mean_absolute': -0.09348446810325844, 'regression_neg_mean_absolute_poly': -0.09355816144883214, 'pos_regression_neg_mean_absolute_poly': -0.06789950450107549}\n",
      "('cophenetic_length divergence', 'henon', 500) {'spearmanr': SpearmanrResult(correlation=0.7768551714206856, pvalue=4.204108494799809e-102), 'pos_spearmanr': SpearmanrResult(correlation=0.6914671696857054, pvalue=9.383124070588922e-35), 'pearsonr': (0.7471145273389895, 2.213625702599123e-90), 'pos_pearsonr': (0.6904464240229204, 1.286911043125007e-34), 'classification_f1': 0.7385991214918857, 'regression_neg_mean_absolute': -0.11333036047427504, 'pos_regression_neg_mean_absolute': -0.08268816790819372, 'regression_neg_mean_absolute_poly': -0.10272362647071295, 'pos_regression_neg_mean_absolute_poly': -0.06825133500680601}\n",
      "('cophenetic_reverse_length divergence', 'henon', 500) {'spearmanr': SpearmanrResult(correlation=0.8097329029316117, pvalue=2.248412972805733e-117), 'pos_spearmanr': SpearmanrResult(correlation=0.741921643688683, pvalue=2.4821885294300108e-42), 'pearsonr': (0.7600713403507293, 2.8125986967243618e-95), 'pos_pearsonr': (0.7101611448548, 2.263082729103346e-37), 'classification_f1': 0.7607426390035086, 'regression_neg_mean_absolute': -0.13250902165657952, 'pos_regression_neg_mean_absolute': -0.09196063182035397, 'regression_neg_mean_absolute_poly': -0.08902889292080525, 'pos_regression_neg_mean_absolute_poly': -0.07520661736630617}\n",
      "('cophenetic_edge divergence', 'henon', 500) {'spearmanr': SpearmanrResult(correlation=0.7364815379261517, pvalue=1.3964935941194425e-86), 'pos_spearmanr': SpearmanrResult(correlation=0.7467992639647886, pvalue=3.699273942702137e-43), 'pearsonr': (0.749995101739337, 1.9174688020558558e-91), 'pos_pearsonr': (0.7332609456457778, 6.57207777924029e-41), 'classification_f1': 0.7701461158411967, 'regression_neg_mean_absolute': -0.0880676898105149, 'pos_regression_neg_mean_absolute': -0.0650528426857522, 'regression_neg_mean_absolute_poly': -0.08548396353638935, 'pos_regression_neg_mean_absolute_poly': -0.05996216467716961}\n",
      "('cophenetic_reverse_edge divergence', 'henon', 500) {'spearmanr': SpearmanrResult(correlation=0.7987872271489085, pvalue=5.628398730614848e-112), 'pos_spearmanr': SpearmanrResult(correlation=0.8319056469435119, pvalue=1.5924061305414393e-61), 'pearsonr': (0.7754331494635096, 1.678155288487812e-101), 'pos_pearsonr': (0.7699282826728138, 2.3658523585788387e-47), 'classification_f1': 0.7847402826896952, 'regression_neg_mean_absolute': -0.11804325396367435, 'pos_regression_neg_mean_absolute': -0.09348446810325844, 'regression_neg_mean_absolute_poly': -0.09355816144883214, 'pos_regression_neg_mean_absolute_poly': -0.06789950450107549}\n",
      "('cophenetic divergence', 'ikeda', 500) {'spearmanr': SpearmanrResult(correlation=0.6448931395725582, pvalue=3.981982306825269e-60), 'pos_spearmanr': SpearmanrResult(correlation=0.8758657948921236, pvalue=3.178608861074142e-78), 'pearsonr': (-0.021708977073285805, 0.628194553829244), 'pos_pearsonr': (0.8036508218460234, 3.0256316086264814e-56), 'classification_f1': 0.7068760693028746, 'regression_neg_mean_absolute': -0.2869780463823682, 'pos_regression_neg_mean_absolute': -0.10911707767673894, 'regression_neg_mean_absolute_poly': -0.23815253129344438, 'pos_regression_neg_mean_absolute_poly': -0.06908551393806885}\n",
      "('cophenetic_reverse divergence', 'ikeda', 500) {'spearmanr': SpearmanrResult(correlation=0.6394197736790946, pvalue=7.895893686926225e-59), 'pos_spearmanr': SpearmanrResult(correlation=0.886599058978592, pvalue=1.1560308908824052e-82), 'pearsonr': (-0.027314301307668674, 0.5422915654271028), 'pos_pearsonr': (0.8187216911302574, 5.357677670225308e-60), 'classification_f1': 0.6610785146683993, 'regression_neg_mean_absolute': -0.28860260949804084, 'pos_regression_neg_mean_absolute': -0.09631664005527128, 'regression_neg_mean_absolute_poly': -0.2390756044564965, 'pos_regression_neg_mean_absolute_poly': -0.0756129451125669}\n",
      "('cophenetic_length divergence', 'ikeda', 500) {'spearmanr': SpearmanrResult(correlation=0.5265920583682335, pvalue=5.129486749163448e-37), 'pos_spearmanr': SpearmanrResult(correlation=0.686854469517162, pvalue=2.9642133849685683e-35), 'pearsonr': (-0.11005178716706326, 0.013810443020812128), 'pos_pearsonr': (0.74618795195278, 1.7861160297170246e-44), 'classification_f1': 0.9112608025626014, 'regression_neg_mean_absolute': -0.22998301330994148, 'pos_regression_neg_mean_absolute': -0.10785937826325066, 'regression_neg_mean_absolute_poly': -0.1944683713566911, 'pos_regression_neg_mean_absolute_poly': -0.09358958025524629}\n",
      "('cophenetic_reverse_length divergence', 'ikeda', 500) {'spearmanr': SpearmanrResult(correlation=0.5227799791199165, pvalue=2.0422374737849995e-36), 'pos_spearmanr': SpearmanrResult(correlation=0.6777503466524827, pvalue=4.945016893205804e-34), 'pearsonr': (-0.11499840603848666, 0.010066122807037626), 'pos_pearsonr': (0.7558991041427205, 3.126027270776025e-46), 'classification_f1': 0.9080927481637122, 'regression_neg_mean_absolute': -0.22659695105138997, 'pos_regression_neg_mean_absolute': -0.10266922860301894, 'regression_neg_mean_absolute_poly': -0.19512968604018524, 'pos_regression_neg_mean_absolute_poly': -0.09810076199038271}\n",
      "('cophenetic_edge divergence', 'ikeda', 500) {'spearmanr': SpearmanrResult(correlation=0.6448931395725582, pvalue=3.981982306825269e-60), 'pos_spearmanr': SpearmanrResult(correlation=0.8758657948921236, pvalue=3.178608861074142e-78), 'pearsonr': (-0.0217089770732858, 0.628194553829244), 'pos_pearsonr': (0.8036508218460234, 3.0256316086264814e-56), 'classification_f1': 0.7068760693028746, 'regression_neg_mean_absolute': -0.2869780463823682, 'pos_regression_neg_mean_absolute': -0.10911707767673894, 'regression_neg_mean_absolute_poly': -0.23815253129344438, 'pos_regression_neg_mean_absolute_poly': -0.06908551393806885}\n",
      "('cophenetic_reverse_edge divergence', 'ikeda', 500) {'spearmanr': SpearmanrResult(correlation=0.6394197736790946, pvalue=7.895893686926225e-59), 'pos_spearmanr': SpearmanrResult(correlation=0.886599058978592, pvalue=1.1560308908824052e-82), 'pearsonr': (-0.02731430130766868, 0.5422915654271028), 'pos_pearsonr': (0.8187216911302575, 5.357677670225003e-60), 'classification_f1': 0.6610785146683993, 'regression_neg_mean_absolute': -0.28859992475219176, 'pos_regression_neg_mean_absolute': -0.09632585346289287, 'regression_neg_mean_absolute_poly': -0.2390756044564965, 'pos_regression_neg_mean_absolute_poly': -0.0756129451125669}\n",
      "('cophenetic divergence', 'logistic', 500) {'spearmanr': SpearmanrResult(correlation=0.6687659390637563, pvalue=4.138470199341195e-66), 'pos_spearmanr': SpearmanrResult(correlation=0.8892532378065581, pvalue=8.33157953472262e-131), 'pearsonr': (0.5386294986003028, 5.814372797153233e-39), 'pos_pearsonr': (0.8612048440375102, 1.9176043232935753e-113), 'classification_f1': 0.6775478172592362, 'regression_neg_mean_absolute': -0.5325576763498202, 'pos_regression_neg_mean_absolute': -0.0663317299658342, 'regression_neg_mean_absolute_poly': -0.4791180065597557, 'pos_regression_neg_mean_absolute_poly': -0.06361697296141659}\n",
      "('cophenetic_reverse divergence', 'logistic', 500) {'spearmanr': SpearmanrResult(correlation=0.8752523970095879, pvalue=3.270408224967065e-159), 'pos_spearmanr': SpearmanrResult(correlation=0.9344378074261795, pvalue=5.007025360465438e-172), 'pearsonr': (0.7735410052135078, 1.0421121494315529e-100), 'pos_pearsonr': (0.9315439030270766, 1.3566731057161155e-168), 'classification_f1': 0.6744014913027913, 'regression_neg_mean_absolute': -0.1953915179964256, 'pos_regression_neg_mean_absolute': -0.03998594846493077, 'regression_neg_mean_absolute_poly': -0.1908373970788141, 'pos_regression_neg_mean_absolute_poly': -0.04427426004184631}\n",
      "('cophenetic_length divergence', 'logistic', 500) {'spearmanr': SpearmanrResult(correlation=0.7165931383725535, pvalue=6.0168779339713914e-80), 'pos_spearmanr': SpearmanrResult(correlation=0.7030270155332263, pvalue=4.576625238347358e-58), 'pearsonr': (0.6625389762652321, 1.7008308170860084e-64), 'pos_pearsonr': (0.797000428214144, 5.217098682749159e-85), 'classification_f1': 0.7388284802445837, 'regression_neg_mean_absolute': -0.23260924134972086, 'pos_regression_neg_mean_absolute': -0.13225340289264748, 'regression_neg_mean_absolute_poly': -0.20873878699180623, 'pos_regression_neg_mean_absolute_poly': -0.12628926075940797}\n",
      "('cophenetic_reverse_length divergence', 'logistic', 500) {'spearmanr': SpearmanrResult(correlation=0.8056687266749067, pvalue=2.491695476227916e-115), 'pos_spearmanr': SpearmanrResult(correlation=0.6495483669391147, pvalue=4.964492307995788e-47), 'pearsonr': (0.7922603245967966, 6.500400323564834e-109), 'pos_pearsonr': (0.7637472087313875, 4.821607514410363e-74), 'classification_f1': 0.7665962291436084, 'regression_neg_mean_absolute': -0.15873289771554616, 'pos_regression_neg_mean_absolute': -0.11815655665293359, 'regression_neg_mean_absolute_poly': -0.1591256925869464, 'pos_regression_neg_mean_absolute_poly': -0.10812990470800765}\n",
      "('cophenetic_edge divergence', 'logistic', 500) {'spearmanr': SpearmanrResult(correlation=0.6687659390637563, pvalue=4.138470199341195e-66), 'pos_spearmanr': SpearmanrResult(correlation=0.8892532378065581, pvalue=8.33157953472262e-131), 'pearsonr': (0.5386294986003028, 5.814372797153233e-39), 'pos_pearsonr': (0.8612048440375102, 1.9176043232935753e-113), 'classification_f1': 0.6775478172592362, 'regression_neg_mean_absolute': -0.5320979876255757, 'pos_regression_neg_mean_absolute': -0.066349873250105, 'regression_neg_mean_absolute_poly': -0.4791180065597557, 'pos_regression_neg_mean_absolute_poly': -0.06361697296141659}\n",
      "('cophenetic_reverse_edge divergence', 'logistic', 500) {'spearmanr': SpearmanrResult(correlation=0.8752523970095879, pvalue=3.270408224967065e-159), 'pos_spearmanr': SpearmanrResult(correlation=0.9344378074261795, pvalue=5.007025360465438e-172), 'pearsonr': (0.7735410052135079, 1.0421121494314936e-100), 'pos_pearsonr': (0.9315439030270765, 1.356673105716501e-168), 'classification_f1': 0.6753734225973032, 'regression_neg_mean_absolute': -0.1953938520343003, 'pos_regression_neg_mean_absolute': -0.03999456818452659, 'regression_neg_mean_absolute_poly': -0.1908373970788141, 'pos_regression_neg_mean_absolute_poly': -0.04427426004184631}\n",
      "('cophenetic divergence', 'tinkerbell', 500) {'spearmanr': SpearmanrResult(correlation=0.6787196428785716, pvalue=8.99766951888491e-69), 'pos_spearmanr': SpearmanrResult(correlation=0.7613236561710508, pvalue=1.3986472452459233e-85), 'pearsonr': (0.33145221594505153, 2.7603480000469522e-14), 'pos_pearsonr': (0.5903810325318554, 3.0669512693448797e-43), 'classification_f1': 0.7122542032854037, 'regression_neg_mean_absolute': -0.2595801153204623, 'pos_regression_neg_mean_absolute': -0.03003481137446636, 'regression_neg_mean_absolute_poly': -0.1689048757521112, 'pos_regression_neg_mean_absolute_poly': -0.019683854367545352}\n",
      "('cophenetic_reverse divergence', 'tinkerbell', 500) {'spearmanr': SpearmanrResult(correlation=0.68663036252145, pvalue=5.774927128416665e-71), 'pos_spearmanr': SpearmanrResult(correlation=0.7753451487774089, pvalue=1.1618612755077165e-90), 'pearsonr': (0.35738092806744975, 1.649742690038493e-16), 'pos_pearsonr': (0.619469634442126, 1.2930828083950911e-48), 'classification_f1': 0.6294140945185148, 'regression_neg_mean_absolute': -0.28269076177749275, 'pos_regression_neg_mean_absolute': -0.0374149381360011, 'regression_neg_mean_absolute_poly': -0.19379484747276646, 'pos_regression_neg_mean_absolute_poly': -0.022566856527106178}\n",
      "('cophenetic_length divergence', 'tinkerbell', 500) {'spearmanr': SpearmanrResult(correlation=0.6429137076548306, pvalue=1.181205819161301e-59), 'pos_spearmanr': SpearmanrResult(correlation=0.731807792701414, pvalue=5.95311077697516e-76), 'pearsonr': (0.11953555443812544, 0.007454966265039003), 'pos_pearsonr': (0.38587650400354406, 2.7654861315568608e-17), 'classification_f1': 0.878650218653025, 'regression_neg_mean_absolute': -0.13952762901632054, 'pos_regression_neg_mean_absolute': -0.0290657798521102, 'regression_neg_mean_absolute_poly': -0.10757000387650383, 'pos_regression_neg_mean_absolute_poly': -0.02127566306736893}\n",
      "('cophenetic_reverse_length divergence', 'tinkerbell', 500) {'spearmanr': SpearmanrResult(correlation=0.6830413881655526, pvalue=5.819872355309696e-70), 'pos_spearmanr': SpearmanrResult(correlation=0.7800271405108138, pvalue=1.9316158119045577e-92), 'pearsonr': (0.16946224000495544, 0.0001404477349577949), 'pos_pearsonr': (0.4727165224512532, 3.2835233759089484e-26), 'classification_f1': 0.8508569598530897, 'regression_neg_mean_absolute': -0.1379327692995284, 'pos_regression_neg_mean_absolute': -0.025443613042098714, 'regression_neg_mean_absolute_poly': -0.10726560275255347, 'pos_regression_neg_mean_absolute_poly': -0.018714352294458773}\n",
      "('cophenetic_edge divergence', 'tinkerbell', 500) {'spearmanr': SpearmanrResult(correlation=0.6787196428785716, pvalue=8.99766951888491e-69), 'pos_spearmanr': SpearmanrResult(correlation=0.7613236561710508, pvalue=1.3986472452459233e-85), 'pearsonr': (0.33145221594505153, 2.7603480000469522e-14), 'pos_pearsonr': (0.5903810325318554, 3.0669512693448797e-43), 'classification_f1': 0.7122542032854037, 'regression_neg_mean_absolute': -0.2596485794314333, 'pos_regression_neg_mean_absolute': -0.030044381464152427, 'regression_neg_mean_absolute_poly': -0.1689048757521112, 'pos_regression_neg_mean_absolute_poly': -0.019683854367545352}\n",
      "('cophenetic_reverse_edge divergence', 'tinkerbell', 500) {'spearmanr': SpearmanrResult(correlation=0.68663036252145, pvalue=5.774927128416665e-71), 'pos_spearmanr': SpearmanrResult(correlation=0.7753451487774089, pvalue=1.1618612755077165e-90), 'pearsonr': (0.35738092806744975, 1.649742690038493e-16), 'pos_pearsonr': (0.6194696344421261, 1.2930828083950177e-48), 'classification_f1': 0.6294140945185148, 'regression_neg_mean_absolute': -0.28269076177749275, 'pos_regression_neg_mean_absolute': -0.0374149381360011, 'regression_neg_mean_absolute_poly': -0.19379484747276646, 'pos_regression_neg_mean_absolute_poly': -0.022566856527106178}\n"
     ]
    }
   ],
   "source": [
    "# with open(f\"outputs/data/LINF_results_{LENGTH}.pkl\", \"wb\") as file:\n",
    "#     pickle.dump(all_results_divergences, file)\n",
    "\n",
    "\n",
    "for result in all_results_divergences:\n",
    "    if 'cophenetic' not in result[0]:\n",
    "        continue\n",
    "    print(result, all_results_divergences[result])"
   ]
  }
 ],
 "metadata": {
  "kernelspec": {
   "display_name": "chaos-chapter",
   "language": "python",
   "name": "python3"
  },
  "language_info": {
   "codemirror_mode": {
    "name": "ipython",
    "version": 3
   },
   "file_extension": ".py",
   "mimetype": "text/x-python",
   "name": "python",
   "nbconvert_exporter": "python",
   "pygments_lexer": "ipython3",
   "version": "3.10.12"
  },
  "orig_nbformat": 4
 },
 "nbformat": 4,
 "nbformat_minor": 2
}
