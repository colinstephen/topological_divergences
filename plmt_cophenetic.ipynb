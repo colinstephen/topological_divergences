{
 "cells": [
  {
   "cell_type": "markdown",
   "metadata": {},
   "source": [
    "# Piecewise Linear Merge Tree Cophenetic Divergence\n"
   ]
  },
  {
   "cell_type": "code",
   "execution_count": 29,
   "metadata": {},
   "outputs": [],
   "source": [
    "import os\n",
    "import pickle\n",
    "import numpy as np\n",
    "from trajectories import generate_trajectories\n",
    "from plots_and_correlates import plot_lce_estimate_and_correlation\n",
    "from lca_supervised_learning import score_classification\n",
    "from lca_supervised_learning import score_regression\n",
    "from lca_supervised_learning import score_regression_pos\n",
    "from TimeSeriesMergeTreeSimple import TimeSeriesMergeTree as TSMT\n",
    "from ipyparallel import require\n",
    "from lca_supervised_learning import score_regression_KNN\n",
    "from lca_supervised_learning import score_regression_pos_KNN\n",
    "\n"
   ]
  },
  {
   "cell_type": "code",
   "execution_count": 30,
   "metadata": {},
   "outputs": [],
   "source": [
    "import ipyparallel as ipp\n",
    "clients = ipp.Client()\n",
    "dv = clients.direct_view()\n",
    "lbv = clients.load_balanced_view()"
   ]
  },
  {
   "cell_type": "code",
   "execution_count": 31,
   "metadata": {},
   "outputs": [],
   "source": [
    "SYS_NAMES = [\"henon\", \"ikeda\", \"logistic\", \"tinkerbell\"]\n",
    "DIV_TYPES = [\"dmt\", \"mt\", \"hvg\", \"ph\"]\n",
    "RES_TYPES = [\"correlations\", \"divergences\"]"
   ]
  },
  {
   "cell_type": "code",
   "execution_count": 32,
   "metadata": {},
   "outputs": [
    {
     "name": "stdout",
     "output_type": "stream",
     "text": [
      "Experiment config -- SEED:42, LENGTH:1000, SAMPLES:500\n"
     ]
    }
   ],
   "source": [
    "SEED = 42\n",
    "SAMPLES = 500\n",
    "LENGTH = 1000\n",
    "experimental_data = generate_trajectories(\n",
    "    RANDOM_SEED=SEED, TS_LENGTH=LENGTH, CONTROL_PARAM_SAMPLES=SAMPLES\n",
    ")"
   ]
  },
  {
   "cell_type": "code",
   "execution_count": 33,
   "metadata": {},
   "outputs": [],
   "source": [
    "def monotonize(ts):\n",
    "    # forget intermediate non-critical points and equalize count of minima/maxima\n",
    "    new_ts = [ts[0]]\n",
    "    N = len(ts)\n",
    "    for idx in range(1,N-1):\n",
    "        x, y, z = ts[idx-1:idx+2]\n",
    "        if (((x<y) and (z<y)) or ((x>y) and (z>y))):\n",
    "            # add the local max/min\n",
    "            new_ts.append(y)\n",
    "    if (len(new_ts) % 2) == 1:\n",
    "        new_ts.append(ts[-1])\n",
    "\n",
    "    is_monotonic = lambda x: (np.all(x[::2]<x[1::2]) or np.all(x[::2]>x[1::2]))\n",
    "    assert is_monotonic(new_ts), \"new time series has non-critical values, somehow\"\n",
    "    return new_ts\n"
   ]
  },
  {
   "cell_type": "code",
   "execution_count": 34,
   "metadata": {},
   "outputs": [],
   "source": [
    "logistic_trajectories = map(monotonize, experimental_data[\"logistic\"][\"trajectories\"])\n",
    "logistic_lces = experimental_data[\"logistic\"][\"lces\"]\n",
    "logistic_control_params = experimental_data[\"logistic\"][\"sys_params\"]"
   ]
  },
  {
   "cell_type": "code",
   "execution_count": 35,
   "metadata": {},
   "outputs": [],
   "source": [
    "henon_trajectories = map(monotonize, experimental_data[\"henon\"][\"trajectories\"])\n",
    "henon_lces = experimental_data[\"henon\"][\"lces\"]\n",
    "henon_control_params = experimental_data[\"henon\"][\"sys_params\"]"
   ]
  },
  {
   "cell_type": "code",
   "execution_count": 36,
   "metadata": {},
   "outputs": [],
   "source": [
    "ikeda_trajectories = map(monotonize, experimental_data[\"ikeda\"][\"trajectories\"])\n",
    "ikeda_lces = experimental_data[\"ikeda\"][\"lces\"]\n",
    "ikeda_control_params = experimental_data[\"ikeda\"][\"sys_params\"]"
   ]
  },
  {
   "cell_type": "code",
   "execution_count": 37,
   "metadata": {},
   "outputs": [],
   "source": [
    "tinkerbell_trajectories = map(monotonize, experimental_data[\"tinkerbell\"][\"trajectories\"])\n",
    "tinkerbell_lces = experimental_data[\"tinkerbell\"][\"lces\"]\n",
    "tinkerbell_control_params = experimental_data[\"tinkerbell\"][\"sys_params\"]"
   ]
  },
  {
   "cell_type": "markdown",
   "metadata": {},
   "source": [
    "## Build merge trees and compute divergences"
   ]
  },
  {
   "cell_type": "code",
   "execution_count": 38,
   "metadata": {},
   "outputs": [],
   "source": [
    "@require(np)\n",
    "def dict_of_arrays(list_of_dicts):\n",
    "    \"\"\"Convert list of dictionaries with equal keys to a dictionary of numpy arrays.\n",
    "    \n",
    "    Example\n",
    "        Input\n",
    "            [{'a': 1, 'b': 2}, {'a': 3, 'b': 4}]\n",
    "        Output\n",
    "            {'a': np.array([1, 3]), 'b': np.array([2, 4])}\n",
    "    \"\"\"\n",
    "    return {key: np.array([d[key] for d in list_of_dicts]) for key in list_of_dicts[0]}"
   ]
  },
  {
   "cell_type": "code",
   "execution_count": 39,
   "metadata": {},
   "outputs": [],
   "source": [
    "def topological_divergences(ts_representations):\n",
    "    divergences = lbv.map_sync(lambda rep: rep.divergences, ts_representations)\n",
    "    return dict_of_arrays(divergences)"
   ]
  },
  {
   "cell_type": "code",
   "execution_count": 40,
   "metadata": {},
   "outputs": [],
   "source": [
    "def generate_plmt_estimates(\n",
    "    sys_name,\n",
    "    param_name,\n",
    "    trajectories,\n",
    "    control_params,\n",
    "    actual_lces,\n",
    "    show_plot=False,\n",
    "):\n",
    "    # store results to be returned\n",
    "    correlations_and_scores = {}\n",
    "\n",
    "    tsmts = map(TSMT, trajectories)\n",
    "    divergences = topological_divergences(tsmts)\n",
    "    for estimate_name, estimates in divergences.items():\n",
    "        # estimate_name = f\"pl_{estimate_name}\"\n",
    "        correlations_and_scores[\n",
    "            estimate_name, sys_name, LENGTH\n",
    "        ] = plot_lce_estimate_and_correlation(\n",
    "            estimate_name,\n",
    "            sys_name,\n",
    "            param_name,\n",
    "            estimates,\n",
    "            actual_lces,\n",
    "            control_params,\n",
    "            LENGTH,\n",
    "            show_plot=show_plot,\n",
    "            save_plot=True,\n",
    "            twoy=True,\n",
    "            plot_actual=True,\n",
    "        )\n",
    "        correlations_and_scores[\n",
    "            estimate_name, sys_name, LENGTH\n",
    "        ] |= {\n",
    "            \"classification_f1\": score_classification(estimates.reshape(-1,1), actual_lces),\n",
    "            \"regression_neg_mean_absolute\": score_regression(estimates.reshape(-1,1), actual_lces),\n",
    "            \"pos_regression_neg_mean_absolute\": score_regression_pos(estimates.reshape(-1,1), actual_lces),\n",
    "            \"regression_neg_mean_absolute_poly\": score_regression_KNN(estimates.reshape(-1,1), actual_lces),\n",
    "            \"pos_regression_neg_mean_absolute_poly\": score_regression_pos_KNN(estimates.reshape(-1,1), actual_lces),\n",
    "        }\n",
    "\n",
    "    return correlations_and_scores"
   ]
  },
  {
   "cell_type": "code",
   "execution_count": 41,
   "metadata": {},
   "outputs": [],
   "source": [
    "all_results_plmt = {}\n",
    "for sys_info in [\n",
    "    [\"Logistic\", \"r\", logistic_trajectories, logistic_control_params, logistic_lces],\n",
    "    [\"Hénon\", \"a\", henon_trajectories, henon_control_params, henon_lces],\n",
    "    [\"Tinkerbell\", \"a\", tinkerbell_trajectories, tinkerbell_control_params, tinkerbell_lces],\n",
    "    [\"Ikeda\", \"a\", ikeda_trajectories, ikeda_control_params, ikeda_lces],\n",
    "]:\n",
    "    all_results_plmt |= generate_plmt_estimates(*sys_info)"
   ]
  },
  {
   "cell_type": "code",
   "execution_count": 42,
   "metadata": {},
   "outputs": [
    {
     "name": "stdout",
     "output_type": "stream",
     "text": [
      "('cophenetic', 'Logistic', 1000) {'spearmanr': SpearmanrResult(correlation=0.596247920991684, pvalue=1.8650212297796466e-49), 'pos_spearmanr': SpearmanrResult(correlation=0.2099307199441073, pvalue=3.6223310042187245e-05), 'classification_f1': 0.8329764637468751, 'regression_neg_mean_absolute': -0.21582239071627302, 'pos_regression_neg_mean_absolute': -0.13737026841081973, 'regression_neg_mean_absolute_poly': -0.16937993501433263, 'pos_regression_neg_mean_absolute_poly': -0.12890991113667905}\n",
      "('cophenetic_reverse', 'Logistic', 1000) {'spearmanr': SpearmanrResult(correlation=0.6028610034440137, pvalue=8.455567817812689e-51), 'pos_spearmanr': SpearmanrResult(correlation=0.19871464124300522, pvalue=9.421668574570587e-05), 'classification_f1': 0.8244437058568502, 'regression_neg_mean_absolute': -0.18607987018464014, 'pos_regression_neg_mean_absolute': -0.13429854535310634, 'regression_neg_mean_absolute_poly': -0.14669649141751995, 'pos_regression_neg_mean_absolute_poly': -0.12330923371631565}\n",
      "('cophenetic_length', 'Logistic', 1000) {'spearmanr': SpearmanrResult(correlation=0.7034988779955119, pvalue=6.976571063381576e-76), 'pos_spearmanr': SpearmanrResult(correlation=0.42312430703670995, pvalue=5.564022510521776e-18), 'classification_f1': 0.8187781958585025, 'regression_neg_mean_absolute': -0.17896422058140068, 'pos_regression_neg_mean_absolute': -0.15694586559395773, 'regression_neg_mean_absolute_poly': -0.1746061977992491, 'pos_regression_neg_mean_absolute_poly': -0.13967879340898148}\n",
      "('cophenetic_reverse_length', 'Logistic', 1000) {'spearmanr': SpearmanrResult(correlation=0.7084527858111432, pvalue=2.1507806520235297e-77), 'pos_spearmanr': SpearmanrResult(correlation=0.41542322020990136, pvalue=2.5001832286966556e-17), 'classification_f1': 0.8068860368223426, 'regression_neg_mean_absolute': -0.15646635641467999, 'pos_regression_neg_mean_absolute': -0.12701477550181123, 'regression_neg_mean_absolute_poly': -0.16576074724458517, 'pos_regression_neg_mean_absolute_poly': -0.1434776484538508}\n",
      "('cophenetic_edge', 'Logistic', 1000) {'spearmanr': SpearmanrResult(correlation=0.7396770067080268, pvalue=1.0535526709129017e-87), 'pos_spearmanr': SpearmanrResult(correlation=0.4893563008399094, pvalue=2.4589716537706697e-24), 'classification_f1': 0.8079121748475755, 'regression_neg_mean_absolute': -0.13815509323880035, 'pos_regression_neg_mean_absolute': -0.1278199387839663, 'regression_neg_mean_absolute_poly': -0.16506011771115597, 'pos_regression_neg_mean_absolute_poly': -0.1251834271353194}\n",
      "('cophenetic_reverse_edge', 'Logistic', 1000) {'spearmanr': SpearmanrResult(correlation=0.7438159672638691, pvalue=3.499996114221968e-89), 'pos_spearmanr': SpearmanrResult(correlation=0.48423829909109245, pvalue=8.563882817475608e-24), 'classification_f1': 0.8193232976141156, 'regression_neg_mean_absolute': -0.11649454718407097, 'pos_regression_neg_mean_absolute': -0.11154289497359444, 'regression_neg_mean_absolute_poly': -0.1584246923628906, 'pos_regression_neg_mean_absolute_poly': -0.12592402820507761}\n",
      "('cophenetic', 'Hénon', 1000) {'spearmanr': SpearmanrResult(correlation=0.8338057672230689, pvalue=1.3804289319442907e-130), 'pos_spearmanr': SpearmanrResult(correlation=0.7724855983060093, pvalue=7.587311616819677e-48), 'classification_f1': 0.7540444502460677, 'regression_neg_mean_absolute': -0.10296145140344101, 'pos_regression_neg_mean_absolute': -0.047063194734608786, 'regression_neg_mean_absolute_poly': -0.08264703629170818, 'pos_regression_neg_mean_absolute_poly': -0.04220922306451198}\n",
      "('cophenetic_reverse', 'Hénon', 1000) {'spearmanr': SpearmanrResult(correlation=0.8337907911631646, pvalue=1.4089087223203215e-130), 'pos_spearmanr': SpearmanrResult(correlation=0.777130202409683, pvalue=9.25460615982089e-49), 'classification_f1': 0.784530153621073, 'regression_neg_mean_absolute': -0.11441919374376476, 'pos_regression_neg_mean_absolute': -0.047633272316656546, 'regression_neg_mean_absolute_poly': -0.0917889621101733, 'pos_regression_neg_mean_absolute_poly': -0.04205232044519269}\n",
      "('cophenetic_length', 'Hénon', 1000) {'spearmanr': SpearmanrResult(correlation=0.8284047856191424, pvalue=1.9154520608803443e-127), 'pos_spearmanr': SpearmanrResult(correlation=0.7576604066687008, pvalue=4.5428087093974724e-45), 'classification_f1': 0.7832943764595578, 'regression_neg_mean_absolute': -0.10896510992987293, 'pos_regression_neg_mean_absolute': -0.09992764027738353, 'regression_neg_mean_absolute_poly': -0.08781256156083336, 'pos_regression_neg_mean_absolute_poly': -0.0813183879376199}\n",
      "('cophenetic_reverse_length', 'Hénon', 1000) {'spearmanr': SpearmanrResult(correlation=0.8287969471877887, pvalue=1.1424452019496249e-127), 'pos_spearmanr': SpearmanrResult(correlation=0.7623826828298519, pvalue=6.234104185122715e-46), 'classification_f1': 0.7810970880070098, 'regression_neg_mean_absolute': -0.12005735153007387, 'pos_regression_neg_mean_absolute': -0.10473049329195169, 'regression_neg_mean_absolute_poly': -0.09344551638734759, 'pos_regression_neg_mean_absolute_poly': -0.0806414031060823}\n",
      "('cophenetic_edge', 'Hénon', 1000) {'spearmanr': SpearmanrResult(correlation=0.8375859743438973, pvalue=7.458262396761303e-133), 'pos_spearmanr': SpearmanrResult(correlation=0.8325233247339269, pvalue=1.077786505269782e-61), 'classification_f1': 0.7192424500958511, 'regression_neg_mean_absolute': -0.11004404816312603, 'pos_regression_neg_mean_absolute': -0.07898074162384722, 'regression_neg_mean_absolute_poly': -0.0841226510016816, 'pos_regression_neg_mean_absolute_poly': -0.06676206292328904}\n",
      "('cophenetic_reverse_edge', 'Hénon', 1000) {'spearmanr': SpearmanrResult(correlation=0.8382719930879724, pvalue=2.8504403354781828e-133), 'pos_spearmanr': SpearmanrResult(correlation=0.8355848983328247, pvalue=1.5203565478136373e-62), 'classification_f1': 0.7507211773009929, 'regression_neg_mean_absolute': -0.11885764401040468, 'pos_regression_neg_mean_absolute': -0.06977391779183248, 'regression_neg_mean_absolute_poly': -0.0905206990791359, 'pos_regression_neg_mean_absolute_poly': -0.0682976487308178}\n",
      "('cophenetic', 'Tinkerbell', 1000) {'spearmanr': SpearmanrResult(correlation=0.7176787107148429, pvalue=2.704382756492337e-80), 'pos_spearmanr': SpearmanrResult(correlation=0.796909038709889, pvalue=3.077105275269039e-99), 'classification_f1': 0.7706058501004053, 'regression_neg_mean_absolute': -0.17640660446371442, 'pos_regression_neg_mean_absolute': -0.03733612189988299, 'regression_neg_mean_absolute_poly': -0.14183086509720372, 'pos_regression_neg_mean_absolute_poly': -0.02397010255044334}\n",
      "('cophenetic_reverse', 'Tinkerbell', 1000) {'spearmanr': SpearmanrResult(correlation=0.7170416521666086, pvalue=4.325915681104858e-80), 'pos_spearmanr': SpearmanrResult(correlation=0.7954974345690844, pvalue=1.2048973174195995e-98), 'classification_f1': 0.7560598310057554, 'regression_neg_mean_absolute': -0.18788172497409, 'pos_regression_neg_mean_absolute': -0.04155984878307476, 'regression_neg_mean_absolute_poly': -0.15283804193874703, 'pos_regression_neg_mean_absolute_poly': -0.024173498718976137}\n",
      "('cophenetic_length', 'Tinkerbell', 1000) {'spearmanr': SpearmanrResult(correlation=0.7166861627446509, pvalue=5.619196898886525e-80), 'pos_spearmanr': SpearmanrResult(correlation=0.7993732591235704, pvalue=2.76658388825576e-100), 'classification_f1': 0.8172669209030673, 'regression_neg_mean_absolute': -0.1520823026754259, 'pos_regression_neg_mean_absolute': -0.029441264537871756, 'regression_neg_mean_absolute_poly': -0.1166697327369298, 'pos_regression_neg_mean_absolute_poly': -0.021996294121321317}\n",
      "('cophenetic_reverse_length', 'Tinkerbell', 1000) {'spearmanr': SpearmanrResult(correlation=0.7176905187620751, pvalue=2.680905181712159e-80), 'pos_spearmanr': SpearmanrResult(correlation=0.7990594490807699, pvalue=3.7669016845320745e-100), 'classification_f1': 0.7843192810895877, 'regression_neg_mean_absolute': -0.13632014614931054, 'pos_regression_neg_mean_absolute': -0.027319853637891117, 'regression_neg_mean_absolute_poly': -0.11939985638956299, 'pos_regression_neg_mean_absolute_poly': -0.02251693896997062}\n",
      "('cophenetic_edge', 'Tinkerbell', 1000) {'spearmanr': SpearmanrResult(correlation=0.6733919095676382, pvalue=2.4678856916901873e-67), 'pos_spearmanr': SpearmanrResult(correlation=0.7737650070015484, pvalue=4.528416612279856e-90), 'classification_f1': 0.8088700129577848, 'regression_neg_mean_absolute': -0.12854236587059745, 'pos_regression_neg_mean_absolute': -0.022974185869140563, 'regression_neg_mean_absolute_poly': -0.10934114002100749, 'pos_regression_neg_mean_absolute_poly': -0.01918713868380747}\n",
      "('cophenetic_reverse_edge', 'Tinkerbell', 1000) {'spearmanr': SpearmanrResult(correlation=0.6737305029220116, pvalue=2.0036483320184265e-67), 'pos_spearmanr': SpearmanrResult(correlation=0.770834535200999, pvalue=5.482875110306572e-89), 'classification_f1': 0.8205021053854329, 'regression_neg_mean_absolute': -0.14180481126284297, 'pos_regression_neg_mean_absolute': -0.021137901468856017, 'regression_neg_mean_absolute_poly': -0.11348315882043196, 'pos_regression_neg_mean_absolute_poly': -0.020333363456006524}\n",
      "('cophenetic', 'Ikeda', 1000) {'spearmanr': SpearmanrResult(correlation=0.6589805063218882, pvalue=1.6804642411649772e-58), 'pos_spearmanr': SpearmanrResult(correlation=0.11988572594633198, pvalue=0.062050802150762724), 'classification_f1': 0.8887157287157287, 'regression_neg_mean_absolute': -0.1442322977756614, 'pos_regression_neg_mean_absolute': -0.14543501124808852, 'regression_neg_mean_absolute_poly': -0.14936670390322396, 'pos_regression_neg_mean_absolute_poly': -0.13802698968082597}\n",
      "('cophenetic_reverse', 'Ikeda', 1000) {'spearmanr': SpearmanrResult(correlation=0.6042917363135368, pvalue=4.969670616105015e-47), 'pos_spearmanr': SpearmanrResult(correlation=0.15538143481511588, pvalue=0.015333263707742894), 'classification_f1': 0.8468970795607905, 'regression_neg_mean_absolute': -0.18068095499397752, 'pos_regression_neg_mean_absolute': -0.14787488616825076, 'regression_neg_mean_absolute_poly': -0.19507530226036135, 'pos_regression_neg_mean_absolute_poly': -0.13180623887972617}\n",
      "('cophenetic_length', 'Ikeda', 1000) {'spearmanr': SpearmanrResult(correlation=0.6341022099618912, pvalue=5.372811978362161e-53), 'pos_spearmanr': SpearmanrResult(correlation=0.3789919395980002, pvalue=1.0166743316784597e-09), 'classification_f1': 0.8700269847643722, 'regression_neg_mean_absolute': -0.1264827499841568, 'pos_regression_neg_mean_absolute': -0.1199849872611532, 'regression_neg_mean_absolute_poly': -0.16065737592183532, 'pos_regression_neg_mean_absolute_poly': -0.11419589105858632}\n",
      "('cophenetic_reverse_length', 'Ikeda', 1000) {'spearmanr': SpearmanrResult(correlation=0.6290517725981601, pvalue=6.121185345165342e-52), 'pos_spearmanr': SpearmanrResult(correlation=0.40979592246358265, pvalue=2.9414414121899785e-11), 'classification_f1': 0.8927887692569516, 'regression_neg_mean_absolute': -0.1279114548994994, 'pos_regression_neg_mean_absolute': -0.11474573857998253, 'regression_neg_mean_absolute_poly': -0.15370619301956856, 'pos_regression_neg_mean_absolute_poly': -0.10713359273809174}\n",
      "('cophenetic_edge', 'Ikeda', 1000) {'spearmanr': SpearmanrResult(correlation=0.6511343908489287, pvalue=1.0410478055371114e-56), 'pos_spearmanr': SpearmanrResult(correlation=0.492816892220767, pvalue=2.834881500806008e-16), 'classification_f1': 0.8805238055191802, 'regression_neg_mean_absolute': -0.12206005675972359, 'pos_regression_neg_mean_absolute': -0.11330251098418112, 'regression_neg_mean_absolute_poly': -0.14676303145017278, 'pos_regression_neg_mean_absolute_poly': -0.10687388323856613}\n",
      "('cophenetic_reverse_edge', 'Ikeda', 1000) {'spearmanr': SpearmanrResult(correlation=0.6446479560117193, pvalue=2.8794530355330145e-55), 'pos_spearmanr': SpearmanrResult(correlation=0.5155061126248408, pvalue=6.72795962829389e-18), 'classification_f1': 0.875940683853041, 'regression_neg_mean_absolute': -0.12298853513970628, 'pos_regression_neg_mean_absolute': -0.125219788334138, 'regression_neg_mean_absolute_poly': -0.1407042809387051, 'pos_regression_neg_mean_absolute_poly': -0.10630208682489667}\n"
     ]
    }
   ],
   "source": [
    "with open(f\"outputs/data/PLMT_divergences_{LENGTH}.pkl\", \"wb\") as file:\n",
    "    pickle.dump(all_results_plmt, file)\n",
    "\n",
    "\n",
    "for result in all_results_plmt:\n",
    "    print(result, all_results_plmt[result])"
   ]
  },
  {
   "cell_type": "code",
   "execution_count": null,
   "metadata": {},
   "outputs": [],
   "source": []
  }
 ],
 "metadata": {
  "kernelspec": {
   "display_name": "chaos-chapter",
   "language": "python",
   "name": "python3"
  },
  "language_info": {
   "codemirror_mode": {
    "name": "ipython",
    "version": 3
   },
   "file_extension": ".py",
   "mimetype": "text/x-python",
   "name": "python",
   "nbconvert_exporter": "python",
   "pygments_lexer": "ipython3",
   "version": "3.10.12"
  },
  "orig_nbformat": 4
 },
 "nbformat": 4,
 "nbformat_minor": 2
}
