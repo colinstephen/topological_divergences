{
 "cells": [
  {
   "cell_type": "markdown",
   "metadata": {},
   "source": [
    "# Piecewise Linear Merge Tree Cophenetic Divergence\n"
   ]
  },
  {
   "cell_type": "code",
   "execution_count": 33,
   "metadata": {},
   "outputs": [],
   "source": [
    "import os\n",
    "import pickle\n",
    "import numpy as np\n",
    "from trajectories import generate_trajectories\n",
    "from plots_and_correlates import plot_lce_estimate_and_correlation\n",
    "from lca_supervised_learning import score_classification\n",
    "from lca_supervised_learning import score_regression\n",
    "from lca_supervised_learning import score_regression_pos\n",
    "from TimeSeriesMergeTreeSimple import TimeSeriesMergeTree as TSMT\n",
    "from ipyparallel import require\n"
   ]
  },
  {
   "cell_type": "code",
   "execution_count": 34,
   "metadata": {},
   "outputs": [],
   "source": [
    "import ipyparallel as ipp\n",
    "clients = ipp.Client()\n",
    "dv = clients.direct_view()\n",
    "lbv = clients.load_balanced_view()"
   ]
  },
  {
   "cell_type": "code",
   "execution_count": 35,
   "metadata": {},
   "outputs": [],
   "source": [
    "SYS_NAMES = [\"henon\", \"ikeda\", \"logistic\", \"tinkerbell\"]\n",
    "DIV_TYPES = [\"dmt\", \"mt\", \"hvg\", \"ph\"]\n",
    "RES_TYPES = [\"correlations\", \"divergences\"]"
   ]
  },
  {
   "cell_type": "code",
   "execution_count": 36,
   "metadata": {},
   "outputs": [
    {
     "name": "stdout",
     "output_type": "stream",
     "text": [
      "Experiment config -- SEED:42, LENGTH:1000, SAMPLES:500\n"
     ]
    }
   ],
   "source": [
    "SEED = 42\n",
    "SAMPLES = 500\n",
    "LENGTH = 1000\n",
    "experimental_data = generate_trajectories(\n",
    "    RANDOM_SEED=SEED, TS_LENGTH=LENGTH, CONTROL_PARAM_SAMPLES=SAMPLES\n",
    ")"
   ]
  },
  {
   "cell_type": "code",
   "execution_count": 37,
   "metadata": {},
   "outputs": [],
   "source": [
    "def monotonize(ts):\n",
    "    # forget intermediate non-critical points and equalize count of minima/maxima\n",
    "    new_ts = [ts[0]]\n",
    "    N = len(ts)\n",
    "    for idx in range(1,N-1):\n",
    "        x, y, z = ts[idx-1:idx+2]\n",
    "        if (((x<y) and (z<y)) or ((x>y) and (z>y))):\n",
    "            # add the local max/min\n",
    "            new_ts.append(y)\n",
    "    if (len(new_ts) % 2) == 1:\n",
    "        new_ts.append(ts[-1])\n",
    "\n",
    "    is_monotonic = lambda x: (np.all(x[::2]<x[1::2]) or np.all(x[::2]>x[1::2]))\n",
    "    assert is_monotonic(new_ts), \"new time series has non-critical values, somehow\"\n",
    "    return new_ts\n"
   ]
  },
  {
   "cell_type": "code",
   "execution_count": 38,
   "metadata": {},
   "outputs": [],
   "source": [
    "logistic_trajectories = map(monotonize, experimental_data[\"logistic\"][\"trajectories\"])\n",
    "logistic_lces = experimental_data[\"logistic\"][\"lces\"]\n",
    "logistic_control_params = experimental_data[\"logistic\"][\"sys_params\"]"
   ]
  },
  {
   "cell_type": "code",
   "execution_count": 39,
   "metadata": {},
   "outputs": [],
   "source": [
    "henon_trajectories = map(monotonize, experimental_data[\"henon\"][\"trajectories\"])\n",
    "henon_lces = experimental_data[\"henon\"][\"lces\"]\n",
    "henon_control_params = experimental_data[\"henon\"][\"sys_params\"]"
   ]
  },
  {
   "cell_type": "code",
   "execution_count": 40,
   "metadata": {},
   "outputs": [],
   "source": [
    "ikeda_trajectories = map(monotonize, experimental_data[\"ikeda\"][\"trajectories\"])\n",
    "ikeda_lces = experimental_data[\"ikeda\"][\"lces\"]\n",
    "ikeda_control_params = experimental_data[\"ikeda\"][\"sys_params\"]"
   ]
  },
  {
   "cell_type": "code",
   "execution_count": 41,
   "metadata": {},
   "outputs": [],
   "source": [
    "tinkerbell_trajectories = map(monotonize, experimental_data[\"tinkerbell\"][\"trajectories\"])\n",
    "tinkerbell_lces = experimental_data[\"tinkerbell\"][\"lces\"]\n",
    "tinkerbell_control_params = experimental_data[\"tinkerbell\"][\"sys_params\"]"
   ]
  },
  {
   "cell_type": "markdown",
   "metadata": {},
   "source": [
    "## Build merge trees and compute divergences"
   ]
  },
  {
   "cell_type": "code",
   "execution_count": 42,
   "metadata": {},
   "outputs": [],
   "source": [
    "@require(np)\n",
    "def dict_of_arrays(list_of_dicts):\n",
    "    \"\"\"Convert list of dictionaries with equal keys to a dictionary of numpy arrays.\n",
    "    \n",
    "    Example\n",
    "        Input\n",
    "            [{'a': 1, 'b': 2}, {'a': 3, 'b': 4}]\n",
    "        Output\n",
    "            {'a': np.array([1, 3]), 'b': np.array([2, 4])}\n",
    "    \"\"\"\n",
    "    return {key: np.array([d[key] for d in list_of_dicts]) for key in list_of_dicts[0]}"
   ]
  },
  {
   "cell_type": "code",
   "execution_count": 43,
   "metadata": {},
   "outputs": [],
   "source": [
    "def topological_divergences(ts_representations):\n",
    "    divergences = lbv.map_sync(lambda rep: rep.divergences, ts_representations)\n",
    "    return dict_of_arrays(divergences)"
   ]
  },
  {
   "cell_type": "code",
   "execution_count": 44,
   "metadata": {},
   "outputs": [],
   "source": [
    "def generate_plmt_estimates(\n",
    "    sys_name,\n",
    "    param_name,\n",
    "    trajectories,\n",
    "    control_params,\n",
    "    actual_lces,\n",
    "    show_plot=False,\n",
    "):\n",
    "    # store results to be returned\n",
    "    correlations_and_scores = {}\n",
    "\n",
    "    tsmts = map(TSMT, trajectories)\n",
    "    divergences = topological_divergences(tsmts)\n",
    "    for estimate_name, estimates in divergences.items():\n",
    "        # estimate_name = f\"pl_{estimate_name}\"\n",
    "        correlations_and_scores[\n",
    "            estimate_name, sys_name, LENGTH\n",
    "        ] = plot_lce_estimate_and_correlation(\n",
    "            estimate_name,\n",
    "            sys_name,\n",
    "            param_name,\n",
    "            estimates,\n",
    "            actual_lces,\n",
    "            control_params,\n",
    "            LENGTH,\n",
    "            show_plot=show_plot,\n",
    "            save_plot=True,\n",
    "            twoy=True,\n",
    "            plot_actual=True,\n",
    "        )\n",
    "        correlations_and_scores[\n",
    "            estimate_name, sys_name, LENGTH\n",
    "        ] |= {\n",
    "            \"classification_f1\": score_classification(estimates.reshape(-1,1), actual_lces),\n",
    "            \"regression_neg_mean_absolute\": score_regression(estimates.reshape(-1,1), actual_lces),\n",
    "            \"pos_regression_neg_mean_absolute\": score_regression_pos(estimates.reshape(-1,1), actual_lces)\n",
    "        }\n",
    "\n",
    "    return correlations_and_scores"
   ]
  },
  {
   "cell_type": "code",
   "execution_count": 45,
   "metadata": {},
   "outputs": [],
   "source": [
    "all_results_plmt = {}\n",
    "for sys_info in [\n",
    "    [\"Logistic\", \"r\", logistic_trajectories, logistic_control_params, logistic_lces],\n",
    "    [\"Hénon\", \"a\", henon_trajectories, henon_control_params, henon_lces],\n",
    "    [\"Tinkerbell\", \"a\", tinkerbell_trajectories, tinkerbell_control_params, tinkerbell_lces],\n",
    "    [\"Ikeda\", \"a\", ikeda_trajectories, ikeda_control_params, ikeda_lces],\n",
    "]:\n",
    "    all_results_plmt |= generate_plmt_estimates(*sys_info)"
   ]
  },
  {
   "cell_type": "code",
   "execution_count": 46,
   "metadata": {},
   "outputs": [
    {
     "name": "stdout",
     "output_type": "stream",
     "text": [
      "('cophenetic', 'Logistic', 1000) {'spearmanr': SpearmanrResult(correlation=0.5913228605036792, pvalue=2.747469385762989e-48), 'pos_spearmanr': SpearmanrResult(correlation=0.2099307199441073, pvalue=3.6223310042187245e-05), 'classification_f1': 0.8499414761847299, 'regression_neg_mean_absolute': -0.4913988078403021, 'pos_regression_neg_mean_absolute': -0.595771321610324}\n",
      "('cophenetic_reverse', 'Logistic', 1000) {'spearmanr': SpearmanrResult(correlation=0.5982387309830929, pvalue=1.155486901041813e-49), 'pos_spearmanr': SpearmanrResult(correlation=0.19871464124300522, pvalue=9.421668574570587e-05), 'classification_f1': 0.8404976183568225, 'regression_neg_mean_absolute': -0.4509391172679945, 'pos_regression_neg_mean_absolute': -0.5803928837131836}\n",
      "('cophenetic_length', 'Logistic', 1000) {'spearmanr': SpearmanrResult(correlation=0.7000020744016455, pvalue=1.5302710372315392e-74), 'pos_spearmanr': SpearmanrResult(correlation=0.42312430703670995, pvalue=5.564022510521776e-18), 'classification_f1': 0.8487948964835758, 'regression_neg_mean_absolute': -0.4724040571768131, 'pos_regression_neg_mean_absolute': -0.5965692596460638}\n",
      "('cophenetic_reverse_length', 'Logistic', 1000) {'spearmanr': SpearmanrResult(correlation=0.7051754474987161, pvalue=4.3183729688030627e-76), 'pos_spearmanr': SpearmanrResult(correlation=0.41542322020990136, pvalue=2.5001832286966556e-17), 'classification_f1': 0.828433983737481, 'regression_neg_mean_absolute': -0.4493399999517195, 'pos_regression_neg_mean_absolute': -0.5543781592886577}\n",
      "('cophenetic_edge', 'Logistic', 1000) {'spearmanr': SpearmanrResult(correlation=0.7366048185678282, pvalue=2.7707851922258114e-86), 'pos_spearmanr': SpearmanrResult(correlation=0.4893563008399094, pvalue=2.4589716537706697e-24), 'classification_f1': 0.8510931513791121, 'regression_neg_mean_absolute': -0.41158259158088734, 'pos_regression_neg_mean_absolute': -0.5321066299730541}\n",
      "('cophenetic_reverse_edge', 'Logistic', 1000) {'spearmanr': SpearmanrResult(correlation=0.7409908906562488, pvalue=8.000468114115786e-88), 'pos_spearmanr': SpearmanrResult(correlation=0.48423829909109245, pvalue=8.563882817475608e-24), 'classification_f1': 0.8436850585641675, 'regression_neg_mean_absolute': -0.4006589234850163, 'pos_regression_neg_mean_absolute': -0.5460511175268803}\n",
      "('cophenetic', 'Hénon', 1000) {'spearmanr': SpearmanrResult(correlation=0.8341060917014752, pvalue=1.6625817695902774e-130), 'pos_spearmanr': SpearmanrResult(correlation=0.7724855983060093, pvalue=7.587311616819677e-48), 'classification_f1': 0.8256136762098467, 'regression_neg_mean_absolute': -0.33274115426798684, 'pos_regression_neg_mean_absolute': -0.47552067718408886}\n",
      "('cophenetic_reverse', 'Hénon', 1000) {'spearmanr': SpearmanrResult(correlation=0.8342640944539682, pvalue=1.3401716470515058e-130), 'pos_spearmanr': SpearmanrResult(correlation=0.777130202409683, pvalue=9.25460615982089e-49), 'classification_f1': 0.8601856901582365, 'regression_neg_mean_absolute': -0.2878253395022635, 'pos_regression_neg_mean_absolute': -0.45819278157241966}\n",
      "('cophenetic_length', 'Hénon', 1000) {'spearmanr': SpearmanrResult(correlation=0.8288291281357896, pvalue=1.9589639779724094e-127), 'pos_spearmanr': SpearmanrResult(correlation=0.7576604066687008, pvalue=4.5428087093974724e-45), 'classification_f1': 0.8259724664977179, 'regression_neg_mean_absolute': -0.3840607125238767, 'pos_regression_neg_mean_absolute': -0.6336095924772771}\n",
      "('cophenetic_reverse_length', 'Hénon', 1000) {'spearmanr': SpearmanrResult(correlation=0.8291940990414564, pvalue=1.210637616043244e-127), 'pos_spearmanr': SpearmanrResult(correlation=0.7623826828298519, pvalue=6.234104185122715e-46), 'classification_f1': 0.8238939321548017, 'regression_neg_mean_absolute': -0.34701015624175696, 'pos_regression_neg_mean_absolute': -0.6397017331663162}\n",
      "('cophenetic_edge', 'Hénon', 1000) {'spearmanr': SpearmanrResult(correlation=0.838159789458435, pvalue=6.124467364355259e-133), 'pos_spearmanr': SpearmanrResult(correlation=0.8325233247339269, pvalue=1.077786505269782e-61), 'classification_f1': 0.7973675264780951, 'regression_neg_mean_absolute': -0.3417613866233102, 'pos_regression_neg_mean_absolute': -0.5105796376839038}\n",
      "('cophenetic_reverse_edge', 'Hénon', 1000) {'spearmanr': SpearmanrResult(correlation=0.8387966294033851, pvalue=2.503879385510223e-133), 'pos_spearmanr': SpearmanrResult(correlation=0.8355848983328247, pvalue=1.5203565478136373e-62), 'classification_f1': 0.8274040273765737, 'regression_neg_mean_absolute': -0.30316853875223465, 'pos_regression_neg_mean_absolute': -0.44597771476659587}\n",
      "('cophenetic', 'Tinkerbell', 1000) {'spearmanr': SpearmanrResult(correlation=0.7176185184740739, pvalue=2.8272752773752746e-80), 'pos_spearmanr': SpearmanrResult(correlation=0.796909038709889, pvalue=3.077105275269039e-99), 'classification_f1': 0.874528342300416, 'regression_neg_mean_absolute': -1.031023528070839, 'pos_regression_neg_mean_absolute': -0.5350363854328004}\n",
      "('cophenetic_reverse', 'Tinkerbell', 1000) {'spearmanr': SpearmanrResult(correlation=0.7170409801639207, pvalue=4.328056812051436e-80), 'pos_spearmanr': SpearmanrResult(correlation=0.7954974345690844, pvalue=1.2048973174195995e-98), 'classification_f1': 0.8691880083468997, 'regression_neg_mean_absolute': -1.0690773561236617, 'pos_regression_neg_mean_absolute': -0.5561568060298041}\n",
      "('cophenetic_length', 'Tinkerbell', 1000) {'spearmanr': SpearmanrResult(correlation=0.7168410113640454, pvalue=5.01434346909299e-80), 'pos_spearmanr': SpearmanrResult(correlation=0.7993732591235704, pvalue=2.76658388825576e-100), 'classification_f1': 0.8906647781910282, 'regression_neg_mean_absolute': -0.9951141290505013, 'pos_regression_neg_mean_absolute': -0.47390259150903913}\n",
      "('cophenetic_reverse_length', 'Tinkerbell', 1000) {'spearmanr': SpearmanrResult(correlation=0.7176523106092424, pvalue=2.757615198689195e-80), 'pos_spearmanr': SpearmanrResult(correlation=0.7990594490807699, pvalue=3.7669016845320745e-100), 'classification_f1': 0.8817683190791671, 'regression_neg_mean_absolute': -0.9607473114159186, 'pos_regression_neg_mean_absolute': -0.5027272752973625}\n",
      "('cophenetic_edge', 'Tinkerbell', 1000) {'spearmanr': SpearmanrResult(correlation=0.6736973827895312, pvalue=2.0449354101354833e-67), 'pos_spearmanr': SpearmanrResult(correlation=0.7737650070015484, pvalue=4.528416612279856e-90), 'classification_f1': 0.8748050970350704, 'regression_neg_mean_absolute': -0.9657354385120238, 'pos_regression_neg_mean_absolute': -0.4683216843518208}\n",
      "('cophenetic_reverse_edge', 'Tinkerbell', 1000) {'spearmanr': SpearmanrResult(correlation=0.673752583010332, pvalue=1.976584838746871e-67), 'pos_spearmanr': SpearmanrResult(correlation=0.770834535200999, pvalue=5.482875110306572e-89), 'classification_f1': 0.874625420923115, 'regression_neg_mean_absolute': -0.9694345527451251, 'pos_regression_neg_mean_absolute': -0.4584384604213978}\n",
      "('cophenetic', 'Ikeda', 1000) {'spearmanr': SpearmanrResult(correlation=0.665046769423137, pvalue=1.5287481848008343e-59), 'pos_spearmanr': SpearmanrResult(correlation=0.11988572594633198, pvalue=0.062050802150762724), 'classification_f1': 0.893011003062154, 'regression_neg_mean_absolute': -0.35838553566022574, 'pos_regression_neg_mean_absolute': -0.9076777346344947}\n",
      "('cophenetic_reverse', 'Ikeda', 1000) {'spearmanr': SpearmanrResult(correlation=0.6170683399291023, pvalue=3.397618942339686e-49), 'pos_spearmanr': SpearmanrResult(correlation=0.15538143481511588, pvalue=0.015333263707742894), 'classification_f1': 0.8818691914781498, 'regression_neg_mean_absolute': -0.382614744384558, 'pos_regression_neg_mean_absolute': -0.9437541894803617}\n",
      "('cophenetic_length', 'Ikeda', 1000) {'spearmanr': SpearmanrResult(correlation=0.6484544132592042, pvalue=9.425210002444752e-56), 'pos_spearmanr': SpearmanrResult(correlation=0.3789919395980002, pvalue=1.0166743316784597e-09), 'classification_f1': 0.8815934443414383, 'regression_neg_mean_absolute': -0.33987909790603354, 'pos_regression_neg_mean_absolute': -0.8605769363393295}\n",
      "('cophenetic_reverse_length', 'Ikeda', 1000) {'spearmanr': SpearmanrResult(correlation=0.6425887138313718, pvalue=1.811912054678761e-54), 'pos_spearmanr': SpearmanrResult(correlation=0.40979592246358265, pvalue=2.9414414121899785e-11), 'classification_f1': 0.902401159502541, 'regression_neg_mean_absolute': -0.3322700778132476, 'pos_regression_neg_mean_absolute': -0.8434227117042334}\n",
      "('cophenetic_edge', 'Ikeda', 1000) {'spearmanr': SpearmanrResult(correlation=0.6659705145712286, pvalue=9.250415253051857e-60), 'pos_spearmanr': SpearmanrResult(correlation=0.492816892220767, pvalue=2.834881500806008e-16), 'classification_f1': 0.8770755678891018, 'regression_neg_mean_absolute': -0.33208507272560717, 'pos_regression_neg_mean_absolute': -0.8487116317747253}\n",
      "('cophenetic_reverse_edge', 'Ikeda', 1000) {'spearmanr': SpearmanrResult(correlation=0.6585902983346262, pvalue=4.872178550988631e-58), 'pos_spearmanr': SpearmanrResult(correlation=0.5155061126248408, pvalue=6.72795962829389e-18), 'classification_f1': 0.8924916363167336, 'regression_neg_mean_absolute': -0.3369036989026336, 'pos_regression_neg_mean_absolute': -0.8837010738001737}\n"
     ]
    }
   ],
   "source": [
    "with open(f\"outputs/data/PLMT_divergences_{LENGTH}.pkl\", \"wb\") as file:\n",
    "    pickle.dump(all_results_plmt, file)\n",
    "\n",
    "\n",
    "for result in all_results_plmt:\n",
    "    print(result, all_results_plmt[result])"
   ]
  },
  {
   "cell_type": "code",
   "execution_count": null,
   "metadata": {},
   "outputs": [],
   "source": []
  }
 ],
 "metadata": {
  "kernelspec": {
   "display_name": "chaos-chapter",
   "language": "python",
   "name": "python3"
  },
  "language_info": {
   "codemirror_mode": {
    "name": "ipython",
    "version": 3
   },
   "file_extension": ".py",
   "mimetype": "text/x-python",
   "name": "python",
   "nbconvert_exporter": "python",
   "pygments_lexer": "ipython3",
   "version": "3.10.12"
  },
  "orig_nbformat": 4
 },
 "nbformat": 4,
 "nbformat_minor": 2
}
