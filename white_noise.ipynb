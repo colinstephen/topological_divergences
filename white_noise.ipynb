{
 "cells": [
  {
   "cell_type": "markdown",
   "metadata": {},
   "source": [
    "# Can Topological Divergences Help Predict the Largest Lyapunov Exponent?"
   ]
  },
  {
   "cell_type": "code",
   "execution_count": 1,
   "metadata": {},
   "outputs": [],
   "source": [
    "import os\n",
    "import pickle\n",
    "import numpy as np\n",
    "import pandas as pd\n",
    "from functools import partial\n",
    "from scipy import stats\n",
    "from plots_and_correlates import plot_lce_estimate_and_correlation\n",
    "from lca_supervised_learning import score_classification\n",
    "from lca_supervised_learning import score_regression\n",
    "from lca_supervised_learning import score_regression_pos\n",
    "from TimeSeriesMergeTreeSimple import TimeSeriesMergeTree as TSMT\n",
    "from TimeSeriesMergeTreeSimple import sum_of_edge_lengths\n",
    "from ipyparallel import require\n",
    "from lca_supervised_learning import score_regression_KNN\n",
    "from lca_supervised_learning import score_regression_pos_KNN\n",
    "from sklearn.preprocessing import MinMaxScaler\n",
    "import pyplnoise\n",
    "import matplotlib.pyplot as plt\n",
    "from tree_offset_divergence import get_offset_divergences\n",
    "from tree_offset_divergence import div_names as merge_tree_div_names\n",
    "from sklearn.ensemble import RandomForestClassifier as RFC\n",
    "from sklearn.neighbors import KNeighborsClassifier\n",
    "from sklearn.neighbors import KNeighborsRegressor\n",
    "from sklearn.model_selection import cross_val_score\n",
    "from sklearn.model_selection import learning_curve\n",
    "from sklearn.model_selection import LeaveOneOut\n",
    "from scipy.stats import iqr\n",
    "\n"
   ]
  },
  {
   "cell_type": "code",
   "execution_count": 2,
   "metadata": {},
   "outputs": [],
   "source": [
    "import ipyparallel as ipp\n",
    "clients = ipp.Client()\n",
    "dv = clients.direct_view()\n",
    "lbv = clients.load_balanced_view()"
   ]
  },
  {
   "cell_type": "code",
   "execution_count": 3,
   "metadata": {},
   "outputs": [],
   "source": [
    "def scale(ts):\n",
    "    \"\"\"Make range of ts fall between 0 and 1\"\"\"\n",
    "    scaler = MinMaxScaler()\n",
    "    return scaler.fit_transform(ts.reshape(-1, 1)).flatten()\n"
   ]
  },
  {
   "cell_type": "markdown",
   "metadata": {},
   "source": [
    "## Get chaotic system data"
   ]
  },
  {
   "cell_type": "code",
   "execution_count": 4,
   "metadata": {},
   "outputs": [
    {
     "name": "stdout",
     "output_type": "stream",
     "text": [
      "Experiment config -- SEED:42, LENGTH:500, SAMPLES:500\n"
     ]
    }
   ],
   "source": [
    "from trajectories import generate_trajectories\n",
    "SEED = 42\n",
    "SAMPLES = 500\n",
    "LENGTH = 500\n",
    "system_data = generate_trajectories(\n",
    "    RANDOM_SEED=SEED, TS_LENGTH=LENGTH, CONTROL_PARAM_SAMPLES=SAMPLES\n",
    ")"
   ]
  },
  {
   "cell_type": "code",
   "execution_count": 5,
   "metadata": {},
   "outputs": [],
   "source": [
    "for system in system_data:\n",
    "    trajectories = system_data[system][\"trajectories\"]\n",
    "    trajectories = list(map(scale, trajectories))\n",
    "    system_data[system][\"trajectories\"] = trajectories\n"
   ]
  },
  {
   "cell_type": "markdown",
   "metadata": {},
   "source": [
    "## Look at offset path length distribution divergences"
   ]
  },
  {
   "cell_type": "code",
   "execution_count": 14,
   "metadata": {},
   "outputs": [],
   "source": [
    "# Set up parameters for the cells below\n",
    "\n",
    "SYSTEM = \"logistic\"  # current system being investigated\n",
    "REP_FUNC = partial(TSMT, discrete=False)  # current mode of representing trajectories\n",
    "OFFSETS = range(1,125,12)  # offsets for merge tree divergences"
   ]
  },
  {
   "cell_type": "code",
   "execution_count": 15,
   "metadata": {},
   "outputs": [],
   "source": [
    "# Apply the representation constructor and get a representation of each trajectory\n",
    "\n",
    "reps = list(map(REP_FUNC, system_data[SYSTEM][\"trajectories\"]))"
   ]
  },
  {
   "cell_type": "code",
   "execution_count": 16,
   "metadata": {},
   "outputs": [],
   "source": [
    "# Compute divergences for the current representation\n",
    "\n",
    "@require(partial=partial, get_offset_divergences=get_offset_divergences, OFFSETS=OFFSETS)\n",
    "def merge_tree_divergences(rep):\n",
    "    import numpy as np\n",
    "    div_values = list(map(partial(get_offset_divergences, tsmt=rep), OFFSETS))\n",
    "    return np.array(div_values).T\n"
   ]
  },
  {
   "cell_type": "code",
   "execution_count": 17,
   "metadata": {},
   "outputs": [],
   "source": [
    "\n",
    "REPRESENTATION_DIVERGENCES_FUNC = merge_tree_divergences\n",
    "rep_divergences = lbv.map_sync(REPRESENTATION_DIVERGENCES_FUNC, reps)\n",
    "rep_divergences = np.array(rep_divergences)  # array of shape (n_trajectories, n_divergences, vector_length)"
   ]
  },
  {
   "cell_type": "code",
   "execution_count": 18,
   "metadata": {},
   "outputs": [],
   "source": [
    "def score_divergences(div_names, divs, system, cv=5, n_neighbors=10):\n",
    "    features = np.array(divs)\n",
    "    shape = features.shape\n",
    "    n_samples, n_divergences, vector_length = shape\n",
    "    y = system[\"lces\"]\n",
    "\n",
    "    for i in range(n_divergences):\n",
    "        div_name = div_names[i]\n",
    "        X = features[:, i, :].reshape(n_samples, -1)\n",
    "        RFC_clf = RFC(random_state=123)\n",
    "        RFC_scores = cross_val_score(RFC_clf, X, y > 0, scoring=\"f1\", cv=cv)\n",
    "\n",
    "        KNR_clf = KNeighborsRegressor(n_neighbors=n_neighbors)\n",
    "\n",
    "        KNR_all_scores = cross_val_score(\n",
    "            KNR_clf,\n",
    "            X,\n",
    "            y,\n",
    "            scoring=\"neg_mean_squared_error\",\n",
    "            cv=cv,\n",
    "        )\n",
    "\n",
    "        pos_mask = y > 0\n",
    "        KNR_chaos_scores = cross_val_score(\n",
    "            KNR_clf,\n",
    "            X[pos_mask],\n",
    "            y[pos_mask],\n",
    "            scoring=\"neg_mean_squared_error\",\n",
    "            cv=cv,\n",
    "        )\n",
    "\n",
    "        yield {\n",
    "            div_name: {\n",
    "                \"RFC\": RFC_scores,\n",
    "                \"KNR_all\": KNR_all_scores,\n",
    "                \"KNR_chaos\": KNR_chaos_scores,\n",
    "            },\n",
    "        }\n"
   ]
  },
  {
   "cell_type": "code",
   "execution_count": 19,
   "metadata": {},
   "outputs": [
    {
     "name": "stdout",
     "output_type": "stream",
     "text": [
      "{'path_length_l1': {'RFC': array([0.92957746, 0.99346405, 0.98064516, 0.96153846, 0.97468354]), 'KNR_all': array([-0.03159395, -0.01460276, -0.01803054, -0.03119553, -0.03603601]), 'KNR_chaos': array([-0.03189797, -0.00970989, -0.01074094, -0.00737038, -0.03638027])}}\n",
      "{'path_length_l2': {'RFC': array([0.99337748, 0.99346405, 0.94409938, 0.96774194, 0.95364238]), 'KNR_all': array([-0.11583027, -0.01879186, -0.01633118, -0.02088784, -0.08131213]), 'KNR_chaos': array([-0.05350568, -0.00939376, -0.01037768, -0.00815617, -0.06025015])}}\n",
      "{'path_length_linf': {'RFC': array([0.86060606, 0.94339623, 0.87654321, 0.91612903, 0.90140845]), 'KNR_all': array([-0.22355817, -0.02151765, -0.04503124, -0.0992852 , -0.19170402]), 'KNR_chaos': array([-0.05211884, -0.00660012, -0.0119539 , -0.02365959, -0.0620563 ])}}\n",
      "{'path_length_hist_w': {'RFC': array([1.        , 1.        , 0.96815287, 0.96774194, 0.94936709]), 'KNR_all': array([-0.13695503, -0.01532889, -0.02411507, -0.02499578, -0.05670338]), 'KNR_chaos': array([-0.03976569, -0.00895921, -0.01308262, -0.01933168, -0.0562734 ])}}\n",
      "{'path_length_hist_l1': {'RFC': array([0.98666667, 0.98064516, 0.97435897, 0.97435897, 0.95      ]), 'KNR_all': array([-0.06126239, -0.0260774 , -0.01623887, -0.03277557, -0.09372844]), 'KNR_chaos': array([-0.06758326, -0.00667508, -0.00679757, -0.01685231, -0.06449478])}}\n",
      "{'path_length_hist_l2': {'RFC': array([0.97297297, 0.98064516, 0.97402597, 0.97435897, 0.95652174]), 'KNR_all': array([-0.05519613, -0.03630111, -0.01107664, -0.0284742 , -0.0655904 ]), 'KNR_chaos': array([-0.06877808, -0.00666579, -0.00866383, -0.01753289, -0.06536852])}}\n",
      "{'path_length_hist_linf': {'RFC': array([0.97333333, 0.98064516, 0.98064516, 0.96103896, 0.95652174]), 'KNR_all': array([-0.05356923, -0.03599273, -0.01018934, -0.0287245 , -0.05641413]), 'KNR_chaos': array([-0.06814815, -0.00819551, -0.0070996 , -0.0168952 , -0.06235137])}}\n",
      "{'cophenetic_l1': {'RFC': array([0.96598639, 0.96103896, 0.98701299, 0.96153846, 0.96202532]), 'KNR_all': array([-0.05958607, -0.02833949, -0.01522827, -0.03019844, -0.06699387]), 'KNR_chaos': array([-0.051936  , -0.01113255, -0.00829095, -0.01591174, -0.05805999])}}\n",
      "{'cophenetic_l2': {'RFC': array([0.98666667, 0.94936709, 0.96202532, 0.94936709, 0.93081761]), 'KNR_all': array([-0.10797679, -0.03396368, -0.03237533, -0.04239773, -0.09304374]), 'KNR_chaos': array([-0.04719083, -0.00784141, -0.00889545, -0.01833336, -0.06223506])}}\n",
      "{'cophenetic_linf': {'RFC': array([0.83529412, 0.94117647, 0.91463415, 0.93167702, 0.89032258]), 'KNR_all': array([-0.17199384, -0.04289444, -0.05426948, -0.09383839, -0.11958213]), 'KNR_chaos': array([-0.04788555, -0.00911955, -0.01135377, -0.02538085, -0.05277937])}}\n",
      "{'cophenetic_hist_w': {'RFC': array([0.95890411, 0.9125    , 0.96774194, 0.94805195, 0.92405063]), 'KNR_all': array([-0.0855099 , -0.02683082, -0.01789397, -0.03349995, -0.09800636]), 'KNR_chaos': array([-0.05510889, -0.00618995, -0.0086622 , -0.01767495, -0.05093028])}}\n",
      "{'cophenetic_hist_l1': {'RFC': array([0.9       , 0.94805195, 0.96774194, 0.96815287, 0.94409938]), 'KNR_all': array([-0.07784485, -0.03186534, -0.01946746, -0.02918995, -0.0712281 ]), 'KNR_chaos': array([-0.06548349, -0.0061882 , -0.00912613, -0.01967891, -0.06715151])}}\n",
      "{'cophenetic_hist_l2': {'RFC': array([0.89208633, 0.94193548, 0.98684211, 0.96815287, 0.92682927]), 'KNR_all': array([-0.08074564, -0.02933018, -0.03143879, -0.03693401, -0.07212536]), 'KNR_chaos': array([-0.06894442, -0.00616567, -0.00808944, -0.01991465, -0.06973378])}}\n",
      "{'cophenetic_hist_linf': {'RFC': array([0.90647482, 0.94871795, 0.98684211, 0.97435897, 0.92592593]), 'KNR_all': array([-0.08552498, -0.02437613, -0.02028724, -0.03819893, -0.07661722]), 'KNR_chaos': array([-0.06763897, -0.0060894 , -0.00874816, -0.01725303, -0.06618347])}}\n"
     ]
    }
   ],
   "source": [
    "score_results = {SYSTEM: {}}\n",
    "for result in score_divergences(merge_tree_div_names, rep_divergences, system_data[SYSTEM]):\n",
    "    print(result)\n",
    "    score_results[SYSTEM] |= result\n"
   ]
  },
  {
   "cell_type": "code",
   "execution_count": 20,
   "metadata": {},
   "outputs": [
    {
     "data": {
      "text/html": [
       "<div>\n",
       "<style scoped>\n",
       "    .dataframe tbody tr th:only-of-type {\n",
       "        vertical-align: middle;\n",
       "    }\n",
       "\n",
       "    .dataframe tbody tr th {\n",
       "        vertical-align: top;\n",
       "    }\n",
       "\n",
       "    .dataframe thead th {\n",
       "        text-align: right;\n",
       "    }\n",
       "</style>\n",
       "<table border=\"1\" class=\"dataframe\">\n",
       "  <thead>\n",
       "    <tr style=\"text-align: right;\">\n",
       "      <th></th>\n",
       "      <th>RFC</th>\n",
       "      <th>KNR_all</th>\n",
       "      <th>KNR_chaos</th>\n",
       "    </tr>\n",
       "  </thead>\n",
       "  <tbody>\n",
       "    <tr>\n",
       "      <th>path_length_l1</th>\n",
       "      <td>0.967982</td>\n",
       "      <td>-0.068070</td>\n",
       "      <td>-0.049761</td>\n",
       "    </tr>\n",
       "    <tr>\n",
       "      <th>path_length_l2</th>\n",
       "      <td>0.970465</td>\n",
       "      <td>-0.131084</td>\n",
       "      <td>-0.073364</td>\n",
       "    </tr>\n",
       "    <tr>\n",
       "      <th>path_length_linf</th>\n",
       "      <td>0.899617</td>\n",
       "      <td>-0.300895</td>\n",
       "      <td>-0.080979</td>\n",
       "    </tr>\n",
       "    <tr>\n",
       "      <th>path_length_hist_w</th>\n",
       "      <td>0.977052</td>\n",
       "      <td>-0.133645</td>\n",
       "      <td>-0.071153</td>\n",
       "    </tr>\n",
       "    <tr>\n",
       "      <th>path_length_hist_l1</th>\n",
       "      <td>0.973206</td>\n",
       "      <td>-0.119138</td>\n",
       "      <td>-0.084093</td>\n",
       "    </tr>\n",
       "    <tr>\n",
       "      <th>path_length_hist_l2</th>\n",
       "      <td>0.971705</td>\n",
       "      <td>-0.101820</td>\n",
       "      <td>-0.086478</td>\n",
       "    </tr>\n",
       "    <tr>\n",
       "      <th>path_length_hist_linf</th>\n",
       "      <td>0.970437</td>\n",
       "      <td>-0.095737</td>\n",
       "      <td>-0.084242</td>\n",
       "    </tr>\n",
       "    <tr>\n",
       "      <th>cophenetic_l1</th>\n",
       "      <td>0.967520</td>\n",
       "      <td>-0.103740</td>\n",
       "      <td>-0.075253</td>\n",
       "    </tr>\n",
       "    <tr>\n",
       "      <th>cophenetic_l2</th>\n",
       "      <td>0.955649</td>\n",
       "      <td>-0.160394</td>\n",
       "      <td>-0.074821</td>\n",
       "    </tr>\n",
       "    <tr>\n",
       "      <th>cophenetic_linf</th>\n",
       "      <td>0.902621</td>\n",
       "      <td>-0.249882</td>\n",
       "      <td>-0.075868</td>\n",
       "    </tr>\n",
       "    <tr>\n",
       "      <th>cophenetic_hist_w</th>\n",
       "      <td>0.942250</td>\n",
       "      <td>-0.135531</td>\n",
       "      <td>-0.071750</td>\n",
       "    </tr>\n",
       "    <tr>\n",
       "      <th>cophenetic_hist_l1</th>\n",
       "      <td>0.945609</td>\n",
       "      <td>-0.118886</td>\n",
       "      <td>-0.086799</td>\n",
       "    </tr>\n",
       "    <tr>\n",
       "      <th>cophenetic_hist_l2</th>\n",
       "      <td>0.943169</td>\n",
       "      <td>-0.129749</td>\n",
       "      <td>-0.089502</td>\n",
       "    </tr>\n",
       "    <tr>\n",
       "      <th>cophenetic_hist_linf</th>\n",
       "      <td>0.948464</td>\n",
       "      <td>-0.126865</td>\n",
       "      <td>-0.085911</td>\n",
       "    </tr>\n",
       "  </tbody>\n",
       "</table>\n",
       "</div>"
      ],
      "text/plain": [
       "                            RFC   KNR_all  KNR_chaos\n",
       "path_length_l1         0.967982 -0.068070  -0.049761\n",
       "path_length_l2         0.970465 -0.131084  -0.073364\n",
       "path_length_linf       0.899617 -0.300895  -0.080979\n",
       "path_length_hist_w     0.977052 -0.133645  -0.071153\n",
       "path_length_hist_l1    0.973206 -0.119138  -0.084093\n",
       "path_length_hist_l2    0.971705 -0.101820  -0.086478\n",
       "path_length_hist_linf  0.970437 -0.095737  -0.084242\n",
       "cophenetic_l1          0.967520 -0.103740  -0.075253\n",
       "cophenetic_l2          0.955649 -0.160394  -0.074821\n",
       "cophenetic_linf        0.902621 -0.249882  -0.075868\n",
       "cophenetic_hist_w      0.942250 -0.135531  -0.071750\n",
       "cophenetic_hist_l1     0.945609 -0.118886  -0.086799\n",
       "cophenetic_hist_l2     0.943169 -0.129749  -0.089502\n",
       "cophenetic_hist_linf   0.948464 -0.126865  -0.085911"
      ]
     },
     "execution_count": 20,
     "metadata": {},
     "output_type": "execute_result"
    }
   ],
   "source": [
    "scores_df = pd.DataFrame(score_results[SYSTEM]).applymap(np.mean).T\n",
    "y = system_data[SYSTEM][\"lces\"]\n",
    "y_iqr = iqr(y)\n",
    "scores_df[[\"KNR_all\", \"KNR_chaos\"]] = scores_df[[\"KNR_all\", \"KNR_chaos\"]].applymap(lambda x: x/y_iqr)\n",
    "scores_df"
   ]
  },
  {
   "cell_type": "code",
   "execution_count": 21,
   "metadata": {},
   "outputs": [
    {
     "data": {
      "image/png": "[encoded data removed]",
      "text/plain": [
       "<Figure size 640x480 with 1 Axes>"
      ]
     },
     "metadata": {},
     "output_type": "display_data"
    }
   ],
   "source": [
    "lces = system_data[SYSTEM][\"lces\"]\n",
    "params = system_data[SYSTEM][\"sys_params\"]\n",
    "param_name = system_data[SYSTEM][\"param_name\"]\n",
    "plt.plot(params, lces, lw=0.5, label=r\"$\\lambda_{\\max}$\")\n",
    "plt.title(f\"{SYSTEM.capitalize()} Largest Lyapunov Exponent\")\n",
    "plt.xlabel(f\"Control parameter ${param_name}$\")\n",
    "plt.ylabel(r\"$\\lambda_{\\max}$\")\n",
    "plt.legend()\n",
    "plt.show()"
   ]
  }
 ],
 "metadata": {
  "kernelspec": {
   "display_name": "chaos-chapter",
   "language": "python",
   "name": "python3"
  },
  "language_info": {
   "codemirror_mode": {
    "name": "ipython",
    "version": 3
   },
   "file_extension": ".py",
   "mimetype": "text/x-python",
   "name": "python",
   "nbconvert_exporter": "python",
   "pygments_lexer": "ipython3",
   "version": "3.10.12"
  },
  "orig_nbformat": 4
 },
 "nbformat": 4,
 "nbformat_minor": 2
}
