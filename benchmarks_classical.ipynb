{
 "cells": [
  {
   "cell_type": "code",
   "execution_count": 29,
   "metadata": {},
   "outputs": [],
   "source": [
    "import pickle\n",
    "import numpy as np\n",
    "from functools import partial\n",
    "from functools import wraps\n",
    "from scipy import stats\n",
    "from nolds import lyap_r\n",
    "from nolds import lyap_e\n",
    "from gtda.time_series import takens_embedding_optimal_parameters\n",
    "from matplotlib import pyplot as plt\n",
    "from rpy2.robjects.packages import importr\n",
    "import rpy2.robjects as robjects\n",
    "from trajectories import generate_trajectories\n",
    "from plots_and_correlates import get_correlation\n",
    "from plots_and_correlates import plot_lce_estimate_and_correlation\n",
    "from lca_supervised_learning import score_classification\n",
    "from lca_supervised_learning import score_regression\n",
    "from lca_supervised_learning import score_regression_pos\n",
    "from ipyparallel import interactive\n",
    "from ipyparallel import require\n",
    "from lca_supervised_learning import score_regression_KNN\n",
    "from lca_supervised_learning import score_regression_pos_KNN\n",
    "from lca_supervised_learning import score_regression_KNN\n",
    "from lca_supervised_learning import score_regression_pos_KNN\n",
    "\n"
   ]
  },
  {
   "cell_type": "code",
   "execution_count": 30,
   "metadata": {},
   "outputs": [],
   "source": [
    "import ipyparallel as ipp\n",
    "clients = ipp.Client()\n",
    "dv = clients.direct_view()\n",
    "lbv = clients.load_balanced_view()"
   ]
  },
  {
   "cell_type": "code",
   "execution_count": 31,
   "metadata": {},
   "outputs": [],
   "source": [
    "tseriesChaos = importr(\"tseriesChaos\")\n",
    "lyap_k = tseriesChaos.lyap_k"
   ]
  },
  {
   "cell_type": "code",
   "execution_count": 32,
   "metadata": {},
   "outputs": [
    {
     "name": "stdout",
     "output_type": "stream",
     "text": [
      "Experiment config -- SEED:42, LENGTH:1000, SAMPLES:500\n"
     ]
    }
   ],
   "source": [
    "SEED = 42\n",
    "SAMPLES = 500\n",
    "LENGTH = 1000\n",
    "experimental_data = generate_trajectories(\n",
    "    RANDOM_SEED=SEED, TS_LENGTH=LENGTH, CONTROL_PARAM_SAMPLES=SAMPLES\n",
    ")\n"
   ]
  },
  {
   "cell_type": "code",
   "execution_count": 33,
   "metadata": {},
   "outputs": [],
   "source": [
    "logistic_trajectories = experimental_data[\"logistic\"][\"trajectories\"]\n",
    "logistic_lces = experimental_data[\"logistic\"][\"lces\"]\n",
    "logistic_control_params = experimental_data[\"logistic\"][\"sys_params\"]"
   ]
  },
  {
   "cell_type": "code",
   "execution_count": 34,
   "metadata": {},
   "outputs": [],
   "source": [
    "henon_trajectories = experimental_data[\"henon\"][\"trajectories\"]\n",
    "henon_lces = experimental_data[\"henon\"][\"lces\"]\n",
    "henon_control_params = experimental_data[\"henon\"][\"sys_params\"]"
   ]
  },
  {
   "cell_type": "code",
   "execution_count": 35,
   "metadata": {},
   "outputs": [],
   "source": [
    "ikeda_trajectories = experimental_data[\"ikeda\"][\"trajectories\"]\n",
    "ikeda_lces = experimental_data[\"ikeda\"][\"lces\"]\n",
    "ikeda_control_params = experimental_data[\"ikeda\"][\"sys_params\"]"
   ]
  },
  {
   "cell_type": "code",
   "execution_count": 36,
   "metadata": {},
   "outputs": [],
   "source": [
    "tinkerbell_trajectories = experimental_data[\"tinkerbell\"][\"trajectories\"]\n",
    "tinkerbell_lces = experimental_data[\"tinkerbell\"][\"lces\"]\n",
    "tinkerbell_control_params = experimental_data[\"tinkerbell\"][\"sys_params\"]"
   ]
  },
  {
   "cell_type": "code",
   "execution_count": 37,
   "metadata": {},
   "outputs": [],
   "source": [
    "@require(takens_embedding_optimal_parameters)\n",
    "def get_best_params(ts, max_delay=50, max_dim=8):\n",
    "    delay, dim = takens_embedding_optimal_parameters(ts, max_delay, max_dim)\n",
    "    return delay, dim"
   ]
  },
  {
   "cell_type": "code",
   "execution_count": 38,
   "metadata": {},
   "outputs": [],
   "source": [
    "def trajectories_to_r_vecs(trajectories):\n",
    "    return [robjects.FloatVector(ts) for ts in trajectories]"
   ]
  },
  {
   "cell_type": "code",
   "execution_count": 39,
   "metadata": {},
   "outputs": [],
   "source": [
    "\n",
    "@require(get_best_params, lyap_k=lyap_k)\n",
    "def kantz_estimator(\n",
    "    ts,\n",
    "    dim=None,\n",
    "    delay=None,\n",
    "    theiler_window=5,\n",
    "    k_neighbours=2,\n",
    "    max_num_points=400,\n",
    "    num_iterations=20,\n",
    "    neighbour_radius=1.1,\n",
    "):\n",
    "    \"\"\"Use R's `tseriesChaos` package and function `lyap_k` to estimate max of Lyapunov spectrum.\"\"\"\n",
    "    if dim is None or delay is None:\n",
    "        delay_, dim_ = get_best_params(ts)\n",
    "        if dim is None:\n",
    "            dim = dim_\n",
    "        if delay is None:\n",
    "            delay = delay_\n",
    "    num_points = min(max_num_points, len(ts) - (((dim - 1) * delay) + 1))\n",
    "    lyapunov_spectrum_estimate = lyap_k(\n",
    "        ts,\n",
    "        dim,\n",
    "        delay,\n",
    "        t=theiler_window,\n",
    "        k=k_neighbours,\n",
    "        ref=num_points,\n",
    "        s=num_iterations,\n",
    "        eps=neighbour_radius,\n",
    "    )\n",
    "    return max(lyapunov_spectrum_estimate)\n"
   ]
  },
  {
   "cell_type": "code",
   "execution_count": 40,
   "metadata": {},
   "outputs": [],
   "source": [
    "from ts2vg import HorizontalVG as HVG\n",
    "from scipy.stats import wasserstein_distance\n",
    "\n",
    "@require(np)\n",
    "def safe_lyap(func):\n",
    "    @wraps(func)\n",
    "    def wrapper(*args, **kwargs):\n",
    "        try:\n",
    "            result = func(*args, **kwargs)\n",
    "        except Exception as err:\n",
    "            message = getattr(err, \"message\", repr(err))\n",
    "            print(\"WARNING: Lyapunov function failed for some reason\")\n",
    "            print(\"MESSAGE:\", message)\n",
    "            return np.nan\n",
    "        return result\n",
    "    return wrapper\n",
    "    \n",
    "\n",
    "def generate_classical_estimates(\n",
    "    sys_name,\n",
    "    param_name,\n",
    "    trajectories,\n",
    "    control_params,\n",
    "    actual_lces,\n",
    "    show_plot=True,\n",
    "):\n",
    "    # store results to be returned\n",
    "    correlations_and_scores = {}\n",
    "\n",
    "    rosenstein_estimates = lbv.map_sync(safe_lyap(lyap_r), trajectories)\n",
    "    rosenstein_estimates = np.array(rosenstein_estimates)\n",
    "\n",
    "    eckmann_estimates = lbv.map_sync(safe_lyap(lyap_e), trajectories)\n",
    "    eckmann_estimates = np.array(eckmann_estimates)\n",
    "    eckmann_estimates = np.max(eckmann_estimates, axis=1)\n",
    "\n",
    "    kantz_estimates = lbv.map_sync(safe_lyap(kantz_estimator), trajectories_to_r_vecs(trajectories))\n",
    "    kantz_estimates = np.array(kantz_estimates)\n",
    "\n",
    "\n",
    "    # compute the correlations of the estimates with the actual lyapunov values\n",
    "    for estimate_name, estimates in {\n",
    "        \"Rosenstein\": rosenstein_estimates,\n",
    "        \"Eckmann\": eckmann_estimates,\n",
    "        \"Kantz\": kantz_estimates\n",
    "    }.items():\n",
    "        estimates = np.array(estimates)\n",
    "        sequence_length = len(trajectories[0]) - 1\n",
    "        correlations_and_scores[\n",
    "            estimate_name, sys_name, sequence_length\n",
    "        ] = plot_lce_estimate_and_correlation(\n",
    "            estimate_name,\n",
    "            sys_name,\n",
    "            param_name,\n",
    "            estimates,\n",
    "            actual_lces,\n",
    "            control_params,\n",
    "            sequence_length,\n",
    "            sharey=False,\n",
    "            show_plot=show_plot,\n",
    "            plot_actual=True,\n",
    "            logy=True if estimate_name == \"Kantz\" else False\n",
    "        )\n",
    "        correlations_and_scores[\n",
    "            estimate_name, sys_name, sequence_length\n",
    "        ] |= {\n",
    "            \"classification_f1\": score_classification(estimates.reshape(-1,1), actual_lces),\n",
    "            \"regression_neg_mean_absolute\": score_regression(estimates.reshape(-1,1), actual_lces),\n",
    "            \"pos_regression_neg_mean_absolute\": score_regression_pos(estimates.reshape(-1,1), actual_lces),\n",
    "            \"regression_neg_mean_absolute_poly\": score_regression_KNN(estimates.reshape(-1,1), actual_lces),\n",
    "            \"pos_regression_neg_mean_absolute_poly\": score_regression_pos_KNN(estimates.reshape(-1,1), actual_lces),\n",
    "        }\n",
    "\n",
    "    return correlations_and_scores\n"
   ]
  },
  {
   "cell_type": "code",
   "execution_count": 41,
   "metadata": {},
   "outputs": [],
   "source": [
    "all_results_classical = {}\n",
    "for sys_info in [\n",
    "    [\"Logistic\", \"r\", logistic_trajectories, logistic_control_params, logistic_lces],\n",
    "    [\"Hénon\", \"a\", henon_trajectories, henon_control_params, henon_lces],\n",
    "    [\"Tinkerbell\", \"a\", tinkerbell_trajectories, tinkerbell_control_params, tinkerbell_lces],\n",
    "    [\"Ikeda\", \"a\", ikeda_trajectories, ikeda_control_params, ikeda_lces],\n",
    "]:\n",
    "    all_results_classical |= generate_classical_estimates(*sys_info, show_plot=False)\n"
   ]
  },
  {
   "cell_type": "code",
   "execution_count": 42,
   "metadata": {},
   "outputs": [
    {
     "name": "stdout",
     "output_type": "stream",
     "text": [
      "('Rosenstein', 'Logistic', 1000) {'spearmanr': SpearmanrResult(correlation=0.3484858927177805, pvalue=1.008411406304581e-15), 'pos_spearmanr': SpearmanrResult(correlation=-0.4066754469138588, pvalue=1.3156848616951406e-16), 'classification_f1': 0.9551395149431079, 'regression_neg_mean_absolute': -0.2632307980571417, 'pos_regression_neg_mean_absolute': -0.39380026609651564, 'regression_neg_mean_absolute_poly': -0.2513824376320465, 'pos_regression_neg_mean_absolute_poly': -0.3073299000324709}\n",
      "('Eckmann', 'Logistic', 1000) {'spearmanr': SpearmanrResult(correlation=0.23298339915916863, pvalue=1.3693557868359535e-07), 'pos_spearmanr': SpearmanrResult(correlation=-0.17801437675071544, pvalue=0.0004808392939976976), 'classification_f1': 0.9973851741080967, 'regression_neg_mean_absolute': -0.1693864174338577, 'pos_regression_neg_mean_absolute': -0.37656997489429833, 'regression_neg_mean_absolute_poly': -0.16897399274023528, 'pos_regression_neg_mean_absolute_poly': -0.3635260471658425}\n",
      "('Kantz', 'Logistic', 1000) {'spearmanr': SpearmanrResult(correlation=0.8680622651928781, pvalue=1.4541369810831252e-153), 'pos_spearmanr': SpearmanrResult(correlation=0.723014083834726, pvalue=7.49233494090731e-63), 'classification_f1': 0.9973856209150327, 'regression_neg_mean_absolute': -0.06175697592196958, 'pos_regression_neg_mean_absolute': -0.08094825508342303, 'regression_neg_mean_absolute_poly': -0.04970798098616936, 'pos_regression_neg_mean_absolute_poly': -0.06450425917607741}\n",
      "('Rosenstein', 'Hénon', 1000) {'spearmanr': SpearmanrResult(correlation=0.8253758999237014, pvalue=7.138960953052068e-97), 'pos_spearmanr': SpearmanrResult(correlation=0.3878396996680444, pvalue=7.440206440937234e-10), 'classification_f1': 0.9811305022580162, 'regression_neg_mean_absolute': -0.02445261071595618, 'pos_regression_neg_mean_absolute': -0.0876315838405253, 'regression_neg_mean_absolute_poly': -0.022736227135381704, 'pos_regression_neg_mean_absolute_poly': -0.06325869995328093}\n",
      "('Eckmann', 'Hénon', 1000) {'spearmanr': SpearmanrResult(correlation=0.5024374690876039, pvalue=2.4370504267745277e-33), 'pos_spearmanr': SpearmanrResult(correlation=0.4688155935902058, pvalue=3.0424935640552234e-14), 'classification_f1': 0.9499961284749071, 'regression_neg_mean_absolute': -0.02643740583269091, 'pos_regression_neg_mean_absolute': -0.0557981655444837, 'regression_neg_mean_absolute_poly': -0.022050778376599897, 'pos_regression_neg_mean_absolute_poly': -0.04383835242227759}\n",
      "('Kantz', 'Hénon', 1000) {'spearmanr': SpearmanrResult(correlation=0.9454562117211704, pvalue=9.846586704003061e-245), 'pos_spearmanr': SpearmanrResult(correlation=0.7361054860513929, pvalue=2.2727991970637274e-41), 'classification_f1': 0.987278353742971, 'regression_neg_mean_absolute': -0.011960106837114359, 'pos_regression_neg_mean_absolute': -0.02272748855746309, 'regression_neg_mean_absolute_poly': -0.009933170406990379, 'pos_regression_neg_mean_absolute_poly': -0.021743077258814907}\n",
      "('Rosenstein', 'Tinkerbell', 1000) {'spearmanr': SpearmanrResult(correlation=0.8823138972555888, pvalue=4.1316893203895436e-165), 'pos_spearmanr': SpearmanrResult(correlation=0.9056593679906317, pvalue=1.4928160864598723e-167), 'classification_f1': 0.9629302074360158, 'regression_neg_mean_absolute': -0.0478219068563504, 'pos_regression_neg_mean_absolute': -0.012158949738727734, 'regression_neg_mean_absolute_poly': -0.03835617699867715, 'pos_regression_neg_mean_absolute_poly': -0.009951009068397455}\n",
      "('Eckmann', 'Tinkerbell', 1000) {'spearmanr': SpearmanrResult(correlation=0.6263708254833019, pvalue=7.697847751005744e-56), 'pos_spearmanr': SpearmanrResult(correlation=0.5123849123648258, pvalue=3.190631344722502e-31), 'classification_f1': 0.9664996159996415, 'regression_neg_mean_absolute': -0.05442692004140534, 'pos_regression_neg_mean_absolute': -0.04976529689363912, 'regression_neg_mean_absolute_poly': -0.04339034152310589, 'pos_regression_neg_mean_absolute_poly': -0.03216636742508237}\n",
      "('Kantz', 'Tinkerbell', 1000) {'spearmanr': SpearmanrResult(correlation=0.7619347620254825, pvalue=5.239992428974189e-96), 'pos_spearmanr': SpearmanrResult(correlation=0.7035824730327949, pvalue=7.1611838146556325e-68), 'classification_f1': 0.9617172479265204, 'regression_neg_mean_absolute': -0.04666543831577619, 'pos_regression_neg_mean_absolute': -0.022418399867092667, 'regression_neg_mean_absolute_poly': -0.03512993631539599, 'pos_regression_neg_mean_absolute_poly': -0.017320120785709114}\n",
      "('Rosenstein', 'Ikeda', 1000) {'spearmanr': SpearmanrResult(correlation=0.7873387348187393, pvalue=1.1228834954145695e-106), 'pos_spearmanr': SpearmanrResult(correlation=-0.5505936998733819, pvalue=1.1578780080520841e-20), 'classification_f1': 0.9719725718596074, 'regression_neg_mean_absolute': -0.05014063464320273, 'pos_regression_neg_mean_absolute': -0.18058619269382514, 'regression_neg_mean_absolute_poly': -0.04253269526184359, 'pos_regression_neg_mean_absolute_poly': -0.13528209536683614}\n",
      "('Eckmann', 'Ikeda', 1000) {'spearmanr': SpearmanrResult(correlation=0.037937090554917945, pvalue=0.397284642020557), 'pos_spearmanr': SpearmanrResult(correlation=-0.7255591182565847, pvalue=5.38694046855931e-41), 'classification_f1': 0.9140847268673357, 'regression_neg_mean_absolute': -0.1006257576280962, 'pos_regression_neg_mean_absolute': -0.11581058296210549, 'regression_neg_mean_absolute_poly': -0.07647027058904705, 'pos_regression_neg_mean_absolute_poly': -0.09737906880562136}\n",
      "('Kantz', 'Ikeda', 1000) {'spearmanr': SpearmanrResult(correlation=0.8724260539359981, pvalue=5.964939848362234e-157), 'pos_spearmanr': SpearmanrResult(correlation=0.14536656513805046, pvalue=0.023426406288294656), 'classification_f1': 0.900569836656031, 'regression_neg_mean_absolute': -0.024469805430436486, 'pos_regression_neg_mean_absolute': -0.13236306377593454, 'regression_neg_mean_absolute_poly': -0.018357459802768258, 'pos_regression_neg_mean_absolute_poly': -0.1224977151478204}\n"
     ]
    }
   ],
   "source": [
    "with open(f\"outputs/data/CLASSIC_benchmarks_{LENGTH}.pkl\", \"wb\") as file:\n",
    "    pickle.dump(all_results_classical, file)\n",
    "\n",
    "\n",
    "for result in all_results_classical:\n",
    "    print(result, all_results_classical[result])"
   ]
  },
  {
   "cell_type": "code",
   "execution_count": null,
   "metadata": {},
   "outputs": [],
   "source": []
  }
 ],
 "metadata": {
  "kernelspec": {
   "display_name": "chaos-chapter",
   "language": "python",
   "name": "python3"
  },
  "language_info": {
   "codemirror_mode": {
    "name": "ipython",
    "version": 3
   },
   "file_extension": ".py",
   "mimetype": "text/x-python",
   "name": "python",
   "nbconvert_exporter": "python",
   "pygments_lexer": "ipython3",
   "version": "3.10.12"
  },
  "orig_nbformat": 4
 },
 "nbformat": 4,
 "nbformat_minor": 2
}
