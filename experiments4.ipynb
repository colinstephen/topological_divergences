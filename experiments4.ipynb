{
 "cells": [
  {
   "cell_type": "code",
   "execution_count": 4,
   "metadata": {},
   "outputs": [],
   "source": [
    "import numpy as np\n",
    "from scipy import stats\n",
    "from numpy.random import MT19937\n",
    "from numpy.random import RandomState\n",
    "from numpy.random import SeedSequence\n",
    "from dataclasses import dataclass\n",
    "from dataclasses import field\n",
    "\n",
    "from LogisticMapLCE import logistic_lce\n",
    "from HenonMapLCE import henon_lce\n",
    "from IkedaMapLCE import ikeda_lce\n",
    "from TinkerbellMapLCE import tinkerbell_lce\n",
    "from TimeSeriesHVG import TimeSeriesHVG as TSHVG\n",
    "from TimeSeriesMergeTree import TimeSeriesMergeTree as TSMT\n",
    "from TimeSeriesPersistence import TimeSeriesPersistence as TSPH"
   ]
  },
  {
   "cell_type": "markdown",
   "metadata": {},
   "source": [
    "## Configure the experiments"
   ]
  },
  {
   "cell_type": "code",
   "execution_count": 14,
   "metadata": {},
   "outputs": [],
   "source": [
    "@dataclass\n",
    "class BifurcationConfig:\n",
    "    \"\"\"Generate trajectories and lyapunovs of a chaotic map over a range of control parameter values.\"\"\"\n",
    "\n",
    "    map_name: str = field(metadata={\"description\": \"name of the chaotic map\"})\n",
    "    map_generator: callable = field(\n",
    "        metadata={\n",
    "            \"description\": \"function to generate chaotic trajectories and lyapunov estimates\"\n",
    "        }\n",
    "    )\n",
    "    fixed_params: dict = field(\n",
    "        metadata={\"description\": \"names and values of fixed control parameters\"}\n",
    "    )\n",
    "    variable_param: dict = field(\n",
    "        metadata={\n",
    "            \"description\": \"name and array of values for the remaining control parameter\"\n",
    "        }\n",
    "    )\n",
    "    init: dict = field(\n",
    "        metadata={\"description\": \"names and values of the initial state variables\"}\n",
    "    )\n"
   ]
  },
  {
   "cell_type": "code",
   "execution_count": 15,
   "metadata": {},
   "outputs": [],
   "source": [
    "@dataclass\n",
    "class ExperimentConfig:\n",
    "    \"\"\"Define an experiment via \"\"\"\n",
    "\n",
    "    SEED: int = field(\n",
    "        default=42,\n",
    "        metadata={\"description\": \"random seed for control parameter generation\"},\n",
    "        kw_only=True,\n",
    "    )\n",
    "    nTransients: int = field(\n",
    "        default=100,\n",
    "        metadata={\n",
    "            \"description\": \"map iterates to ignore to ensure trajectories are on the attractor\"\n",
    "        },\n",
    "        kw_only=True,\n",
    "    )\n",
    "    nIterates: int = field(\n",
    "        default=1000,\n",
    "        metadata={\"description\": \"length of trajectory on attractor to generate\"},\n",
    "        kw_only=True,\n",
    "    )\n",
    "    nTransients_lce: int = field(\n",
    "        default=200,\n",
    "        metadata={\n",
    "            \"description\": \"map iterates to ignore when estimating lyapunov exponents\"\n",
    "        },\n",
    "        kw_only=True,\n",
    "    )\n",
    "    nIterates_lce: int = field(\n",
    "        default=10000,\n",
    "        metadata={\n",
    "            \"description\": \"length of trajectory to use when estimating lyapunov exponents\"\n",
    "        },\n",
    "        kw_only=True,\n",
    "    )\n",
    "    includeTrajectory: bool = field(\n",
    "        default=True,\n",
    "        metadata={\n",
    "            \"description\": \"return a trajectory as well as the lyapunov exponents\"\n",
    "        },\n",
    "        kw_only=True,\n",
    "    )\n",
    "    fullLceSpectrum: bool = field(\n",
    "        default=False,\n",
    "        metadata={\"description\": \"include the non-maximal Lyapunov exponents as well\"},\n",
    "        kw_only=True,\n",
    "    )\n",
    "    map: BifurcationConfig = field(\n",
    "        metadata={\"description\": \"the generating map and control parameters to run the experiment with\"},\n",
    "    )\n"
   ]
  },
  {
   "cell_type": "code",
   "execution_count": null,
   "metadata": {},
   "outputs": [],
   "source": [
    "\n",
    "dataset_config = {\n",
    "    \"logistic\": {\n",
    "        \"map\": logistic_lce,\n",
    "        \"params\": \n",
    "    }\n",
    "    \"henon\": henon_lce,\n",
    "    \"ikeda\": ikeda_lce,\n",
    "}"
   ]
  }
 ],
 "metadata": {
  "kernelspec": {
   "display_name": "chaos-chapter",
   "language": "python",
   "name": "python3"
  },
  "language_info": {
   "codemirror_mode": {
    "name": "ipython",
    "version": 3
   },
   "file_extension": ".py",
   "mimetype": "text/x-python",
   "name": "python",
   "nbconvert_exporter": "python",
   "pygments_lexer": "ipython3",
   "version": "3.10.12"
  },
  "orig_nbformat": 4
 },
 "nbformat": 4,
 "nbformat_minor": 2
}
